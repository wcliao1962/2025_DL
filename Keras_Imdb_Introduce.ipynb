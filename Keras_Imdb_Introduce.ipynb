{
  "cells": [
    {
      "cell_type": "markdown",
      "metadata": {
        "id": "view-in-github",
        "colab_type": "text"
      },
      "source": [
        "<a href=\"https://colab.research.google.com/github/wcliao1962/2025_DL/blob/master/Keras_Imdb_Introduce.ipynb\" target=\"_parent\"><img src=\"https://colab.research.google.com/assets/colab-badge.svg\" alt=\"Open In Colab\"/></a>"
      ]
    },
    {
      "cell_type": "markdown",
      "source": [
        "# 下載IMDb\n",
        "\n",
        "* 執行下載前，請先在Colab虛擬機**建立data資料夾** (點選Files圖示(最右邊)，在Files頁面上，按滑鼠右鍵，點選New folder)\n"
      ],
      "metadata": {
        "id": "VmViaux3nF1Z"
      }
    },
    {
      "cell_type": "code",
      "execution_count": null,
      "metadata": {
        "id": "gZZV2jW40nRt"
      },
      "outputs": [],
      "source": [
        "import urllib.request\n",
        "import os\n",
        "import tarfile"
      ]
    },
    {
      "cell_type": "code",
      "execution_count": null,
      "metadata": {
        "colab": {
          "base_uri": "https://localhost:8080/"
        },
        "id": "YNmf-ZWr0nRz",
        "outputId": "272ae8dc-0c4a-4fe9-9e6e-8d07e91480c2"
      },
      "outputs": [
        {
          "output_type": "stream",
          "name": "stdout",
          "text": [
            "downloaded: ('data/aclImdb_v1.tar.gz', <http.client.HTTPMessage object at 0x7fda7c20f010>)\n"
          ]
        }
      ],
      "source": [
        "url=\"http://ai.stanford.edu/~amaas/data/sentiment/aclImdb_v1.tar.gz\"\n",
        "filepath=\"data/aclImdb_v1.tar.gz\"\n",
        "if not os.path.isfile(filepath):\n",
        "    result=urllib.request.urlretrieve(url,filepath)\n",
        "    print('downloaded:',result)"
      ]
    },
    {
      "cell_type": "markdown",
      "source": [
        "# 解壓縮IMDb：在data/aclImdb當中"
      ],
      "metadata": {
        "id": "DjoocNwGMkYk"
      }
    },
    {
      "cell_type": "code",
      "execution_count": null,
      "metadata": {
        "id": "Eih4jkMJ0nR0"
      },
      "outputs": [],
      "source": [
        "if not os.path.exists(\"data/aclImdb\"):\n",
        "    tfile = tarfile.open(\"data/aclImdb_v1.tar.gz\", 'r:gz')\n",
        "    result=tfile.extractall('data/')"
      ]
    },
    {
      "cell_type": "markdown",
      "source": [
        "# 檢視data/aclImdb內的資料夾結構(解壓縮後)：\n",
        "* **test** (影評25000篇，測試用)\n",
        "  * **neg**: 有12500篇負面影評文字檔\n",
        "  * **pos**: 有12500篇正面影評文字檔\n",
        "* **train** (影評25000篇，訓練用)\n",
        "  * **neg**: 有12500篇負面影評文字檔\n",
        "  * **pos**: 有12500篇正面影評文字檔\n"
      ],
      "metadata": {
        "id": "O6A-RMMIQZvh"
      }
    },
    {
      "cell_type": "markdown",
      "metadata": {
        "id": "mya_eR_j0nR1"
      },
      "source": [
        "# 匯入文字資料預處理模組"
      ]
    },
    {
      "cell_type": "code",
      "execution_count": null,
      "metadata": {
        "id": "0Vmn5TH30nR2"
      },
      "outputs": [],
      "source": [
        "# from tensorflow.keras.datasets import imdb\n",
        "from tensorflow.keras.preprocessing import sequence\n",
        "from tensorflow.keras.preprocessing.text import Tokenizer"
      ]
    },
    {
      "cell_type": "markdown",
      "source": [
        "# 定義rm_tags(text)函數\n",
        "用以去除text當中的HTML標籤(tag)"
      ],
      "metadata": {
        "id": "sF8opZcCNZwL"
      }
    },
    {
      "cell_type": "code",
      "execution_count": null,
      "metadata": {
        "id": "dyKR_Ric0nR5"
      },
      "outputs": [],
      "source": [
        "import re\n",
        "def rm_tags(text):\n",
        "    re_tag = re.compile(r'<[^>]+>')\n",
        "    return re_tag.sub('', text)"
      ]
    },
    {
      "cell_type": "markdown",
      "source": [
        "# 定義 read_files(filetype)函數\n",
        "* filetype可以是train或test\n",
        "* 是train，則由data/aclImdb的train資料夾**讀取訓練資料**\n",
        "* 是test，則由test資料夾**讀取測試資料**\n"
      ],
      "metadata": {
        "id": "yvJ02g59OODX"
      }
    },
    {
      "cell_type": "code",
      "execution_count": null,
      "metadata": {
        "id": "F0HKLghW0nR5"
      },
      "outputs": [],
      "source": [
        "import os\n",
        "def read_files(filetype):\n",
        "    path = \"data/aclImdb/\"\n",
        "    file_list=[]\n",
        "\n",
        "    positive_path=path + filetype+\"/pos/\"\n",
        "    for f in os.listdir(positive_path):\n",
        "        file_list+=[positive_path+f]\n",
        "\n",
        "    negative_path=path + filetype+\"/neg/\"\n",
        "    for f in os.listdir(negative_path):\n",
        "        file_list+=[negative_path+f]\n",
        "\n",
        "    print('read',filetype, 'files:',len(file_list))\n",
        "\n",
        "    all_labels = ([1] * 12500 + [0] * 12500)\n",
        "\n",
        "    all_texts  = []\n",
        "    for fi in file_list:\n",
        "        with open(fi,encoding='utf8') as file_input:\n",
        "            all_texts += [rm_tags(\" \".join(file_input.readlines()))]\n",
        "\n",
        "    return all_labels,all_texts"
      ]
    },
    {
      "cell_type": "markdown",
      "metadata": {
        "id": "ruKLCbje0nR3"
      },
      "source": [
        "# 建立訓練與測試資料"
      ]
    },
    {
      "cell_type": "code",
      "execution_count": null,
      "metadata": {
        "colab": {
          "base_uri": "https://localhost:8080/"
        },
        "id": "lvjNrJEH0nR6",
        "outputId": "6e63e22b-14fb-4fee-bc4f-1bdfcfc750a4"
      },
      "outputs": [
        {
          "output_type": "stream",
          "name": "stdout",
          "text": [
            "read train files: 25000\n"
          ]
        }
      ],
      "source": [
        "y_train,train_text=read_files(\"train\")"
      ]
    },
    {
      "cell_type": "code",
      "execution_count": null,
      "metadata": {
        "colab": {
          "base_uri": "https://localhost:8080/"
        },
        "id": "aHGjCcdE0nR7",
        "outputId": "d70660f1-bf4a-4c53-d017-c715c533a355"
      },
      "outputs": [
        {
          "output_type": "stream",
          "name": "stdout",
          "text": [
            "read test files: 25000\n"
          ]
        }
      ],
      "source": [
        "y_test,test_text=read_files(\"test\")"
      ]
    },
    {
      "cell_type": "code",
      "execution_count": null,
      "metadata": {
        "id": "Ru7RKpqo0nR8"
      },
      "outputs": [],
      "source": [
        "#查看正面評價的影評"
      ]
    },
    {
      "cell_type": "code",
      "execution_count": null,
      "metadata": {
        "colab": {
          "base_uri": "https://localhost:8080/",
          "height": 104
        },
        "id": "8_aPbse60nR8",
        "outputId": "12246109-dff4-482b-9f98-e503f2913be0"
      },
      "outputs": [
        {
          "output_type": "execute_result",
          "data": {
            "text/plain": [
              "'Wow. What a wonderful film. The script is nearly perfect it appears this is the only film written by Minglun Wei,I hope he has more stories in him.The acting is sublime. Renying Zhou as Doggie was amazing -- very natural talent, and Xu Zhu was a delight - very believable as the jaded old traditionalist. The soundtrack was very effective, guiding without being overwhelming. If only more movies like this were made whether in Hollywood or Hong Kong- a family friendly, well acted, well written, well directed, near perfect gem.'"
            ],
            "application/vnd.google.colaboratory.intrinsic+json": {
              "type": "string"
            }
          },
          "metadata": {},
          "execution_count": 11
        }
      ],
      "source": [
        "train_text[0]"
      ]
    },
    {
      "cell_type": "code",
      "execution_count": null,
      "metadata": {
        "colab": {
          "base_uri": "https://localhost:8080/"
        },
        "id": "Djdd2iwI0nR9",
        "outputId": "eb21db12-a103-4e17-a21f-d07754257633"
      },
      "outputs": [
        {
          "output_type": "execute_result",
          "data": {
            "text/plain": [
              "1"
            ]
          },
          "metadata": {},
          "execution_count": 12
        }
      ],
      "source": [
        "y_train[0]"
      ]
    },
    {
      "cell_type": "code",
      "execution_count": null,
      "metadata": {
        "id": "KdcgoIxC0nR9"
      },
      "outputs": [],
      "source": [
        "#查看負面評價的影評"
      ]
    },
    {
      "cell_type": "code",
      "execution_count": null,
      "metadata": {
        "colab": {
          "base_uri": "https://localhost:8080/",
          "height": 139
        },
        "id": "54NVOTnq0nR9",
        "outputId": "3a2cd661-9fe1-42c0-ef49-f78296b2720b"
      },
      "outputs": [
        {
          "output_type": "execute_result",
          "data": {
            "text/plain": [
              "\"I had to do a search on the actresses to find the board of this film because the title is now An Unexpected Love. It's not really worth looking for but I was unfamiliar with both leads and wondered why they were headlining a lesbian flick on Lifetime. Everything's pretty restrained and you don't really get an idea of who these characters are so, as a viewer, I wasn't able to become emotionally invested in the storyline. I guess I'm not the target audience for this but I'm not sure who is. Everything's muted and soft focus and earth tones...nothing's very interesting. I had a prurient interest in seeing two women make out but it's handled so discreetly that I was disappointed. Rent Personal Best instead.\""
            ],
            "application/vnd.google.colaboratory.intrinsic+json": {
              "type": "string"
            }
          },
          "metadata": {},
          "execution_count": 14
        }
      ],
      "source": [
        "train_text[12500]"
      ]
    },
    {
      "cell_type": "code",
      "execution_count": null,
      "metadata": {
        "colab": {
          "base_uri": "https://localhost:8080/"
        },
        "id": "3avIquhl0nR-",
        "outputId": "1c7bbf93-4620-44eb-8012-ad0c09922284"
      },
      "outputs": [
        {
          "output_type": "execute_result",
          "data": {
            "text/plain": [
              "0"
            ]
          },
          "metadata": {},
          "execution_count": 15
        }
      ],
      "source": [
        "y_train[12500]"
      ]
    },
    {
      "cell_type": "markdown",
      "metadata": {
        "collapsed": true,
        "id": "QwlEQetq0nR-"
      },
      "source": [
        "# 利用tokenizer建立字典：\n",
        "* 字典的數量限制為2000：nb_words=2000\n",
        "* 讀取訓練資料所有影評(train_text)，依每一個**英文單字(word)**在訓練資料(所有影評文章)出現頻率排序，取最高前2000個單字及其順序數字(index)，形成一個字典\n",
        "* 字典內容類似如下：{'the': 1, 'and': 2, 'a': 3, 'of': 4, 'to': 5, 'is': 6, 'in': 7, 'it': 8, ... }"
      ]
    },
    {
      "cell_type": "code",
      "execution_count": null,
      "metadata": {
        "id": "mb9lI5XI0nR-"
      },
      "outputs": [],
      "source": [
        "tokenizer = Tokenizer(num_words=2000)\n",
        "tokenizer.fit_on_texts(train_text)"
      ]
    },
    {
      "cell_type": "code",
      "execution_count": null,
      "metadata": {
        "colab": {
          "base_uri": "https://localhost:8080/"
        },
        "id": "WhdXu0Fa0nR_",
        "outputId": "70900ec2-81f0-4993-cd24-d1adc087793f"
      },
      "outputs": [
        {
          "output_type": "stream",
          "name": "stdout",
          "text": [
            "25000\n"
          ]
        }
      ],
      "source": [
        "print(tokenizer.document_count)"
      ]
    },
    {
      "cell_type": "code",
      "source": [
        "# 列出字典所有內容(全部2000項非常多)，建議可以列出，但上傳GitHub時，記得先清除掉outputs\n",
        "print(tokenizer.word_index)"
      ],
      "metadata": {
        "id": "qDgkeh62eBRi"
      },
      "execution_count": null,
      "outputs": []
    },
    {
      "cell_type": "code",
      "execution_count": null,
      "metadata": {
        "colab": {
          "base_uri": "https://localhost:8080/"
        },
        "id": "KJD1eT9V0nR_",
        "outputId": "af625ce3-2ff9-4aac-aec6-d195bbad87cd"
      },
      "outputs": [
        {
          "output_type": "stream",
          "name": "stdout",
          "text": [
            "[('the', 1), ('and', 2), ('a', 3), ('of', 4), ('to', 5), ('is', 6), ('in', 7), ('it', 8), ('i', 9), ('this', 10), ('that', 11), ('was', 12), ('as', 13), ('for', 14), ('with', 15), ('movie', 16), ('but', 17), ('film', 18), ('on', 19), ('not', 20), ('you', 21), ('are', 22), ('his', 23), ('have', 24), ('be', 25), ('he', 26), ('one', 27), ('all', 28), ('at', 29), ('by', 30), ('an', 31), ('they', 32), ('who', 33), ('so', 34), ('from', 35), ('like', 36), ('her', 37), ('or', 38), ('just', 39), ('about', 40), (\"it's\", 41), ('out', 42), ('has', 43), ('if', 44), ('some', 45), ('there', 46), ('what', 47), ('good', 48), ('more', 49), ('when', 50), ('very', 51), ('up', 52), ('no', 53), ('time', 54), ('she', 55), ('even', 56), ('my', 57), ('would', 58), ('which', 59), ('only', 60), ('story', 61), ('really', 62), ('see', 63), ('their', 64), ('had', 65), ('can', 66), ('were', 67), ('me', 68), ('well', 69), ('than', 70), ('we', 71), ('much', 72), ('been', 73), ('get', 74), ('bad', 75), ('will', 76), ('also', 77), ('do', 78), ('into', 79), ('people', 80), ('other', 81), ('first', 82), ('great', 83), ('because', 84), ('how', 85), ('him', 86), ('most', 87), (\"don't\", 88), ('made', 89), ('its', 90), ('then', 91), ('way', 92), ('make', 93), ('them', 94), ('too', 95), ('could', 96), ('any', 97), ('movies', 98), ('after', 99), ('think', 100)]\n"
          ]
        }
      ],
      "source": [
        "# 列出字典前100項，但需將字典轉換成list，方便選出前100項\n",
        "\n",
        "# Convert the dictionary to a list of (word, index) pairs\n",
        "word_index_items = list(tokenizer.word_index.items())\n",
        "\n",
        "# Print the first 100 items\n",
        "print(word_index_items[:100])"
      ]
    },
    {
      "cell_type": "markdown",
      "metadata": {
        "collapsed": true,
        "id": "KyfCXIZT0nSA"
      },
      "source": [
        "# 轉換每篇影評(文字串)為一連串的數字(數字串)\n",
        "* 每篇影評所有**單字(word)**轉換為一個一個的數字(index)\n",
        "* **注意：只有在字典當中的單字才會被轉換為數字，若無略過**"
      ]
    },
    {
      "cell_type": "code",
      "execution_count": null,
      "metadata": {
        "id": "j-Yy0_lw0nSA"
      },
      "outputs": [],
      "source": [
        "x_train_seq = tokenizer.texts_to_sequences(train_text)\n",
        "x_test_seq  = tokenizer.texts_to_sequences(test_text)"
      ]
    },
    {
      "cell_type": "code",
      "execution_count": null,
      "metadata": {
        "colab": {
          "base_uri": "https://localhost:8080/"
        },
        "id": "DUOIdT8s0nSA",
        "outputId": "69175292-d0dd-4e8f-ae40-219eff0ee888"
      },
      "outputs": [
        {
          "output_type": "stream",
          "name": "stdout",
          "text": [
            "Wow. What a wonderful film. The script is nearly perfect it appears this is the only film written by Minglun Wei,I hope he has more stories in him.The acting is sublime. Renying Zhou as Doggie was amazing -- very natural talent, and Xu Zhu was a delight - very believable as the jaded old traditionalist. The soundtrack was very effective, guiding without being overwhelming. If only more movies like this were made whether in Hollywood or Hong Kong- a family friendly, well acted, well written, well directed, near perfect gem.\n"
          ]
        }
      ],
      "source": [
        "print(train_text[0])"
      ]
    },
    {
      "cell_type": "code",
      "execution_count": null,
      "metadata": {
        "colab": {
          "base_uri": "https://localhost:8080/"
        },
        "id": "5-H2X5rs0nSA",
        "outputId": "ff81aa50-ca28-4993-9584-b0994d410695"
      },
      "outputs": [
        {
          "output_type": "stream",
          "name": "stdout",
          "text": [
            "[1315, 47, 3, 385, 18, 1, 225, 6, 750, 399, 8, 734, 10, 6, 1, 60, 18, 394, 30, 9, 436, 26, 43, 49, 533, 7, 86, 1, 112, 6, 13, 12, 476, 51, 1244, 671, 2, 12, 3, 51, 860, 13, 1, 150, 1, 809, 12, 51, 1126, 205, 108, 44, 60, 49, 98, 36, 10, 67, 89, 722, 7, 358, 38, 1980, 3, 219, 69, 914, 69, 394, 69, 522, 746, 399, 1524]\n"
          ]
        }
      ],
      "source": [
        "print(x_train_seq[0])"
      ]
    },
    {
      "cell_type": "code",
      "source": [
        "# sequences_to_texts() 可以轉換數字為文字\n",
        "tokenizer.sequences_to_texts([[10, 6, 3, 16, 11, 210, 124, 253, 54, 9, 63, 8, 46, 22, 34]])"
      ],
      "metadata": {
        "colab": {
          "base_uri": "https://localhost:8080/"
        },
        "id": "YVQoiwmMjyWb",
        "outputId": "6434c284-0d43-44e4-c07c-036c018e170e"
      },
      "execution_count": null,
      "outputs": [
        {
          "output_type": "execute_result",
          "data": {
            "text/plain": [
              "['this is a movie that gets better each time i see it there are so']"
            ]
          },
          "metadata": {},
          "execution_count": 23
        }
      ]
    },
    {
      "cell_type": "markdown",
      "metadata": {
        "id": "Iko9FuyE0nSA"
      },
      "source": [
        "# 完成x_train與x_test的建立：使每篇影評的數字串長度相同\n",
        "\n",
        "* 每篇影評數字串的數字個數(長度)，因每篇影評內的單字個數不同而不同\n",
        "* 進行神經網路的訓練時，每一篇影評的數字串長度必須相同\n",
        "* 數字串長度過長，裁減數字，過短，則補數字0\n",
        "* 程式碼當中：maxlen=100，使每一篇文章的數字串長度都成為100\n",
        "* 如果影評轉成數字串，長度大於100，pad_sequences處理後，會截掉(truncate)數字串**前面**的數字\n",
        "* 如果影評轉成數字串，長度不足100，pad_sequences處理後，數字串**前面**會加上0"
      ]
    },
    {
      "cell_type": "code",
      "execution_count": null,
      "metadata": {
        "id": "o_pRJhNh0nSB",
        "collapsed": true
      },
      "outputs": [],
      "source": [
        "x_train = sequence.pad_sequences(x_train_seq, maxlen=100)\n",
        "x_test  = sequence.pad_sequences(x_test_seq,  maxlen=100)"
      ]
    },
    {
      "cell_type": "code",
      "execution_count": null,
      "metadata": {
        "id": "F7B13yyi0nSC"
      },
      "outputs": [],
      "source": [
        "#如果文章轉成數字不足100,pad_sequences處理後，前面會加上0"
      ]
    },
    {
      "cell_type": "code",
      "execution_count": null,
      "metadata": {
        "colab": {
          "base_uri": "https://localhost:8080/"
        },
        "id": "6ie0Affv0nSB",
        "outputId": "73b402b1-4597-4029-e89a-cf7b77109766"
      },
      "outputs": [
        {
          "output_type": "stream",
          "name": "stdout",
          "text": [
            "before pad_sequences length= 75\n",
            "[1315, 47, 3, 385, 18, 1, 225, 6, 750, 399, 8, 734, 10, 6, 1, 60, 18, 394, 30, 9, 436, 26, 43, 49, 533, 7, 86, 1, 112, 6, 13, 12, 476, 51, 1244, 671, 2, 12, 3, 51, 860, 13, 1, 150, 1, 809, 12, 51, 1126, 205, 108, 44, 60, 49, 98, 36, 10, 67, 89, 722, 7, 358, 38, 1980, 3, 219, 69, 914, 69, 394, 69, 522, 746, 399, 1524]\n"
          ]
        }
      ],
      "source": [
        "print('before pad_sequences length=',len(x_train_seq[0]))\n",
        "print(x_train_seq[0])"
      ]
    },
    {
      "cell_type": "code",
      "execution_count": null,
      "metadata": {
        "colab": {
          "base_uri": "https://localhost:8080/"
        },
        "id": "Y579Bybx0nSB",
        "outputId": "fbac5fe4-23e4-4087-e48f-310940ba3828"
      },
      "outputs": [
        {
          "output_type": "stream",
          "name": "stdout",
          "text": [
            "after pad_sequences length= 100\n",
            "[   0    0    0    0    0    0    0    0    0    0    0    0    0    0\n",
            "    0    0    0    0    0    0    0    0    0    0    0 1315   47    3\n",
            "  385   18    1  225    6  750  399    8  734   10    6    1   60   18\n",
            "  394   30    9  436   26   43   49  533    7   86    1  112    6   13\n",
            "   12  476   51 1244  671    2   12    3   51  860   13    1  150    1\n",
            "  809   12   51 1126  205  108   44   60   49   98   36   10   67   89\n",
            "  722    7  358   38 1980    3  219   69  914   69  394   69  522  746\n",
            "  399 1524]\n"
          ]
        }
      ],
      "source": [
        "print('after pad_sequences length=',len(x_train[0]))\n",
        "print(x_train[0])"
      ]
    },
    {
      "cell_type": "code",
      "source": [
        "# 如果文章轉成數字長度大於100，pad_sequences處理後，會truncate前面的數字"
      ],
      "metadata": {
        "id": "FUtrlGlzfUYw"
      },
      "execution_count": null,
      "outputs": []
    },
    {
      "cell_type": "code",
      "execution_count": null,
      "metadata": {
        "colab": {
          "base_uri": "https://localhost:8080/"
        },
        "outputId": "b18e4ae2-9fd2-494b-fd0b-924b7ad631a1",
        "id": "gfTEf5qne--U"
      },
      "outputs": [
        {
          "output_type": "stream",
          "name": "stdout",
          "text": [
            "before pad_sequences length= 413\n",
            "[9, 442, 10, 18, 20, 108, 3, 1660, 1787, 333, 9, 5, 1140, 23, 2, 23, 23, 98, 22, 249, 17, 23, 959, 61, 6, 27, 15, 1455, 9, 2, 12, 5, 165, 11, 10, 18, 58, 25, 40, 1891, 23, 109, 243, 70, 327, 86, 15, 35, 450, 5, 126, 10, 18, 35, 3, 658, 79, 3, 1195, 1, 173, 2, 1, 525, 5, 253, 81, 2, 5, 1660, 1787, 47, 71, 74, 22, 80, 33, 693, 1660, 1, 114, 659, 40, 86, 35, 28, 1118, 2, 1557, 2, 795, 174, 64, 105, 13, 72, 13, 71, 74, 79, 959, 2, 1617, 109, 35, 23, 5, 23, 5, 23, 5, 23, 365, 5, 23, 2, 56, 5, 23, 18, 227, 1, 18, 406, 6, 320, 7, 3, 360, 348, 92, 11, 182, 220, 42, 4, 1157, 14, 1660, 13, 44, 767, 1, 4, 87, 619, 98, 35, 58, 25, 428, 4, 36, 1649, 3, 1728, 70, 1, 1, 266, 1073, 3, 277, 4, 481, 2, 77, 3, 83, 851, 4, 50, 253, 173, 1672, 15, 64, 974, 447, 76, 25, 5, 838, 959, 1660, 2, 157, 76, 25, 11, 10, 128, 12, 143, 1, 284, 6, 364, 4, 1163, 5, 165, 4, 2, 17, 1, 143, 4, 10, 18, 6, 1, 1233, 1723, 2, 61, 1660, 65, 3, 4, 80, 139, 64, 15, 86, 14, 124, 38, 429, 5, 1, 209, 117, 27, 251, 76, 136, 176, 7, 475, 13, 14, 276, 86, 2, 23, 365, 25, 7, 37, 10, 1247, 5, 3, 262, 139, 13, 1, 87, 476, 958, 4, 1, 18, 6, 5, 20, 60, 198, 3, 69, 322, 4, 1, 128, 11, 12, 1660, 1787, 17, 77, 5, 198, 3, 647, 4, 1, 1821, 11, 26, 1070, 816, 205, 122, 256, 49, 11, 27, 173, 1672, 108, 19, 264, 29, 3, 54, 1, 11, 1660, 1070, 1, 994, 80, 7, 23, 109, 454, 783, 2, 1, 525, 6, 313, 15, 83, 277, 4, 56, 1, 421, 29, 1, 499, 1025, 185, 509, 17, 30, 1, 126, 71, 63, 11, 56, 10, 6, 3, 47, 773, 13, 533, 30, 1518, 80, 624, 15, 1, 1172, 11, 28, 4, 1, 173, 76, 25, 1435, 79, 31, 11, 475, 76, 717, 79, 15, 1788, 7, 107, 765, 3, 576, 1660, 1787, 96, 20, 25, 5, 3, 680, 10, 776, 6, 1, 5, 1269, 86, 11, 71, 66, 122, 74, 108, 406, 3, 4, 1319, 8, 6, 29, 276, 249, 612, 239, 2]\n"
          ]
        }
      ],
      "source": [
        "print('before pad_sequences length=',len(x_train_seq[1]))\n",
        "print(x_train_seq[1])"
      ]
    },
    {
      "cell_type": "code",
      "execution_count": null,
      "metadata": {
        "colab": {
          "base_uri": "https://localhost:8080/"
        },
        "id": "LZowIMga0nSC",
        "outputId": "bd1d1ae0-caf1-41af-dbb1-9c8a35dbf4b7"
      },
      "outputs": [
        {
          "output_type": "stream",
          "name": "stdout",
          "text": [
            "after pad_sequences length= 100\n",
            "[   7   23  109  454  783    2    1  525    6  313   15   83  277    4\n",
            "   56    1  421   29    1  499 1025  185  509   17   30    1  126   71\n",
            "   63   11   56   10    6    3   47  773   13  533   30 1518   80  624\n",
            "   15    1 1172   11   28    4    1  173   76   25 1435   79   31   11\n",
            "  475   76  717   79   15 1788    7  107  765    3  576 1660 1787   96\n",
            "   20   25    5    3  680   10  776    6    1    5 1269   86   11   71\n",
            "   66  122   74  108  406    3    4 1319    8    6   29  276  249  612\n",
            "  239    2]\n"
          ]
        }
      ],
      "source": [
        "print('after pad_sequences length=',len(x_train[1]))\n",
        "print(x_train[1])"
      ]
    },
    {
      "cell_type": "markdown",
      "source": [
        "## 轉換x_train, x_test, y_train, y_test為numpy array"
      ],
      "metadata": {
        "id": "QE4C79q4HuMm"
      }
    },
    {
      "cell_type": "code",
      "source": [
        "import numpy as np\n",
        "\n",
        "x_train = np.array(x_train)\n",
        "x_test = np.array(x_test)\n",
        "y_train = np.array(y_train)\n",
        "y_test = np.array(y_test)\n",
        "\n",
        "print(x_train.shape)\n",
        "print(x_test.shape)\n",
        "print(y_train.shape)"
      ],
      "metadata": {
        "id": "XV07zu1TDYFz"
      },
      "execution_count": null,
      "outputs": []
    },
    {
      "cell_type": "markdown",
      "metadata": {
        "id": "lrDbzNwW0nSC"
      },
      "source": [
        "# 影評情意分析資料預處理主要程式碼"
      ]
    },
    {
      "cell_type": "markdown",
      "source": [
        "```python\n",
        "from tensorflow.keras.preprocessing import sequence\n",
        "from tensorflow.keras.preprocessing.text import Tokenizer\n",
        "\n",
        "tokeniner = Tokenizer(num_words=2000)\n",
        "tokeniner.fit_on_texts(train_text)\n",
        "```\n",
        "```python\n",
        "x_train_seq = tokeniner.texts_to_sequences(train_text)\n",
        "x_test_seq  = tokeniner.texts_to_sequences(test_text)\n",
        "```\n",
        "```python\n",
        "x_train = sequence.pad_sequences(x_train_seq, maxlen=100)\n",
        "x_test  = sequence.pad_sequences(x_test_seq,  maxlen=100)\n",
        "```\n",
        "\n",
        "\n"
      ],
      "metadata": {
        "id": "Xm5Q0BKLlNfr"
      }
    },
    {
      "cell_type": "markdown",
      "source": [
        "# 把tokenizer存起來\n",
        "* ## 存檔前，請先確定有SaveModel資料夾"
      ],
      "metadata": {
        "id": "Z5Uq6JYD3X2C"
      }
    },
    {
      "cell_type": "code",
      "metadata": {
        "colab": {
          "base_uri": "https://localhost:8080/"
        },
        "id": "bWUh9zFEFi2F",
        "outputId": "738012ca-9cc8-4265-92f7-590b9df38185"
      },
      "source": [
        "from google.colab import drive\n",
        "\n",
        "drive.mount('/content/drive')"
      ],
      "execution_count": null,
      "outputs": [
        {
          "output_type": "stream",
          "name": "stdout",
          "text": [
            "Mounted at /content/drive\n"
          ]
        }
      ]
    },
    {
      "cell_type": "code",
      "metadata": {
        "colab": {
          "base_uri": "https://localhost:8080/"
        },
        "id": "e_4lNrxlF_M_",
        "outputId": "be2c1b22-1070-43fa-f99e-7ed4e98795fb"
      },
      "source": [
        "%cd \"/content/drive/MyDrive/Colab Notebooks/\""
      ],
      "execution_count": null,
      "outputs": [
        {
          "output_type": "stream",
          "name": "stdout",
          "text": [
            "/content/drive/MyDrive/Colab Notebooks\n"
          ]
        }
      ]
    },
    {
      "cell_type": "code",
      "metadata": {
        "id": "igw9qiUSGM77"
      },
      "source": [
        "# 存檔前，請先確定有SaveModel資料夾\n",
        "import pickle\n",
        "f = open('SaveModel/imdb_tokenizer_2000.pkl', 'wb')\n",
        "pickle.dump(tokenizer, f)\n",
        "f.close()"
      ],
      "execution_count": null,
      "outputs": []
    },
    {
      "cell_type": "markdown",
      "source": [
        "之後要用 `pickle` 讀回我們訓練好的 tokenizer 是這樣:\n",
        "\n",
        "```python\n",
        "import pickle\n",
        "f = open('SaveModel/imdb_tokenizer_2000.pkl', 'rb')\n",
        "tokenizer = pickle.load(f)\n",
        "f.close()\n",
        "```"
      ],
      "metadata": {
        "id": "7LehYPnDiZLG"
      }
    }
  ],
  "metadata": {
    "anaconda-cloud": {},
    "kernelspec": {
      "display_name": "Python 3",
      "language": "python",
      "name": "python3"
    },
    "language_info": {
      "codemirror_mode": {
        "name": "ipython",
        "version": 3
      },
      "file_extension": ".py",
      "mimetype": "text/x-python",
      "name": "python",
      "nbconvert_exporter": "python",
      "pygments_lexer": "ipython3",
      "version": "3.7.6"
    },
    "colab": {
      "provenance": [],
      "include_colab_link": true
    }
  },
  "nbformat": 4,
  "nbformat_minor": 0
}