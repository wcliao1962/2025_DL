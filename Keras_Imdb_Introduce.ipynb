{
  "cells": [
    {
      "cell_type": "markdown",
      "metadata": {
        "id": "view-in-github",
        "colab_type": "text"
      },
      "source": [
        "<a href=\"https://colab.research.google.com/github/wcliao1962/2025_DL/blob/master/Keras_Imdb_Introduce.ipynb\" target=\"_parent\"><img src=\"https://colab.research.google.com/assets/colab-badge.svg\" alt=\"Open In Colab\"/></a>"
      ]
    },
    {
      "cell_type": "markdown",
      "source": [
        "# 下載IMDb\n",
        "\n",
        "* 執行下載前，請先在Colab虛擬機**建立data資料夾** (點選Files圖示(最右邊)，在Files頁面上，按滑鼠右鍵，點選New folder)\n"
      ],
      "metadata": {
        "id": "VmViaux3nF1Z"
      }
    },
    {
      "cell_type": "code",
      "execution_count": 1,
      "metadata": {
        "id": "gZZV2jW40nRt"
      },
      "outputs": [],
      "source": [
        "import urllib.request\n",
        "import os\n",
        "import tarfile"
      ]
    },
    {
      "cell_type": "code",
      "execution_count": 3,
      "metadata": {
        "colab": {
          "base_uri": "https://localhost:8080/"
        },
        "id": "YNmf-ZWr0nRz",
        "outputId": "d2d3f64b-0adf-4ab3-8eae-440e35450c88"
      },
      "outputs": [
        {
          "output_type": "stream",
          "name": "stdout",
          "text": [
            "downloaded: ('data/aclImdb_v1.tar.gz', <http.client.HTTPMessage object at 0x7d53345a0bd0>)\n"
          ]
        }
      ],
      "source": [
        "url=\"http://ai.stanford.edu/~amaas/data/sentiment/aclImdb_v1.tar.gz\"\n",
        "filepath=\"data/aclImdb_v1.tar.gz\"\n",
        "if not os.path.isfile(filepath):\n",
        "    result=urllib.request.urlretrieve(url,filepath)\n",
        "    print('downloaded:',result)"
      ]
    },
    {
      "cell_type": "markdown",
      "source": [
        "# 解壓縮IMDb在data/aclImdb當中"
      ],
      "metadata": {
        "id": "DjoocNwGMkYk"
      }
    },
    {
      "cell_type": "code",
      "execution_count": 4,
      "metadata": {
        "id": "Eih4jkMJ0nR0"
      },
      "outputs": [],
      "source": [
        "if not os.path.exists(\"data/aclImdb\"):\n",
        "    tfile = tarfile.open(\"data/aclImdb_v1.tar.gz\", 'r:gz')\n",
        "    result=tfile.extractall('data/')"
      ]
    },
    {
      "cell_type": "markdown",
      "source": [
        "# data/aclImdb內的資料夾結構如下：\n",
        "* **test** (影評25000篇，測試用)\n",
        "  * **neg**: 有12500篇負面影評文字檔\n",
        "  * **pos**: 有12500篇正面影評文字檔\n",
        "* **train** (影評25000篇，訓練用)\n",
        "  * **neg**: 有12500篇負面影評文字檔\n",
        "  * **pos**: 有12500篇正面影評文字檔\n"
      ],
      "metadata": {
        "id": "O6A-RMMIQZvh"
      }
    },
    {
      "cell_type": "markdown",
      "metadata": {
        "id": "mya_eR_j0nR1"
      },
      "source": [
        "# 匯入模組"
      ]
    },
    {
      "cell_type": "code",
      "execution_count": 5,
      "metadata": {
        "id": "0Vmn5TH30nR2"
      },
      "outputs": [],
      "source": [
        "# from tensorflow.keras.datasets import imdb\n",
        "from tensorflow.keras.preprocessing import sequence\n",
        "from tensorflow.keras.preprocessing.text import Tokenizer"
      ]
    },
    {
      "cell_type": "markdown",
      "metadata": {
        "id": "ruKLCbje0nR3"
      },
      "source": [
        "# 資料準備"
      ]
    },
    {
      "cell_type": "markdown",
      "source": [
        "# 定義rm_tags(text)函數\n",
        "用以去除text當中的HTML標籤(tag)"
      ],
      "metadata": {
        "id": "sF8opZcCNZwL"
      }
    },
    {
      "cell_type": "code",
      "execution_count": 6,
      "metadata": {
        "id": "dyKR_Ric0nR5"
      },
      "outputs": [],
      "source": [
        "import re\n",
        "def rm_tags(text):\n",
        "    re_tag = re.compile(r'<[^>]+>')\n",
        "    return re_tag.sub('', text)"
      ]
    },
    {
      "cell_type": "markdown",
      "source": [
        "# 定義 read_files(filetype)函數\n",
        "* filetype可以是train或test\n",
        "* 是train，則由data/aclImdb的train資料夾**讀取訓練資料**\n",
        "* 是test，則由test資料夾**讀取測試資料**\n"
      ],
      "metadata": {
        "id": "yvJ02g59OODX"
      }
    },
    {
      "cell_type": "code",
      "execution_count": 7,
      "metadata": {
        "id": "F0HKLghW0nR5"
      },
      "outputs": [],
      "source": [
        "import os\n",
        "def read_files(filetype):\n",
        "    path = \"data/aclImdb/\"\n",
        "    file_list=[]\n",
        "\n",
        "    positive_path=path + filetype+\"/pos/\"\n",
        "    for f in os.listdir(positive_path):\n",
        "        file_list+=[positive_path+f]\n",
        "\n",
        "    negative_path=path + filetype+\"/neg/\"\n",
        "    for f in os.listdir(negative_path):\n",
        "        file_list+=[negative_path+f]\n",
        "\n",
        "    print('read',filetype, 'files:',len(file_list))\n",
        "\n",
        "    all_labels = ([1] * 12500 + [0] * 12500)\n",
        "\n",
        "    all_texts  = []\n",
        "    for fi in file_list:\n",
        "        with open(fi,encoding='utf8') as file_input:\n",
        "            all_texts += [rm_tags(\" \".join(file_input.readlines()))]\n",
        "\n",
        "    return all_labels,all_texts"
      ]
    },
    {
      "cell_type": "code",
      "execution_count": 8,
      "metadata": {
        "colab": {
          "base_uri": "https://localhost:8080/"
        },
        "id": "lvjNrJEH0nR6",
        "outputId": "66b93483-0724-4eb5-b724-e1a7ddb2de59"
      },
      "outputs": [
        {
          "output_type": "stream",
          "name": "stdout",
          "text": [
            "read train files: 25000\n"
          ]
        }
      ],
      "source": [
        "y_train,train_text=read_files(\"train\")"
      ]
    },
    {
      "cell_type": "code",
      "execution_count": 9,
      "metadata": {
        "colab": {
          "base_uri": "https://localhost:8080/"
        },
        "id": "aHGjCcdE0nR7",
        "outputId": "602de00a-ff37-456c-bf9f-3cda8ff83543"
      },
      "outputs": [
        {
          "output_type": "stream",
          "name": "stdout",
          "text": [
            "read test files: 25000\n"
          ]
        }
      ],
      "source": [
        "y_test,test_text=read_files(\"test\")"
      ]
    },
    {
      "cell_type": "code",
      "execution_count": null,
      "metadata": {
        "id": "Ru7RKpqo0nR8"
      },
      "outputs": [],
      "source": [
        "#查看正面評價的影評"
      ]
    },
    {
      "cell_type": "code",
      "execution_count": 10,
      "metadata": {
        "colab": {
          "base_uri": "https://localhost:8080/",
          "height": 191
        },
        "id": "8_aPbse60nR8",
        "outputId": "9280a4c4-a689-47b7-c307-42139f1364a9"
      },
      "outputs": [
        {
          "output_type": "execute_result",
          "data": {
            "text/plain": [
              "'This is a movie that gets better each time I see it. There are so many nuanced performances in this. William Tracey, as Pepi, is a delight, bringing sharp comic relief. Joseph Schildkraut as Vadas, is the only \"villian\" in the movie, and his oily charms are well used here. Frank Morgan, is delightful as the owner of the title shop, Mr. Matuschek, and his familiar manner is well used here. I especially liked the performance of Felix Bressart, as Pirovitch. Very believable in every facet of his role.The two leads are equally accomplished, with Margaret Sullivan doing an outstanding job of portraying a slightly desperate, neurotic, yet charming and attractive woman.This movie belongs to Jimmy Stewart though. The movie is presented from his point of view, with the action rotating around him. Mr. Stewart is more then up to the task of carrying the movie, with an amazing performance that uses a wide range of emotions. Just watch Stewart, when he is fired from his job, because of a misunderstanding. He is able to convey the shock, anger, fear and embarrassment that so traumatic an event causes, so perfectly. In my estimation, James Stewart is, without question, the greatest film actor in the history of the medium. There is no one else that has ever been captured on film that is able to so completely convey what he is feeling to an audience. At the time he made this movie, he still had most of his career ahead of him, yet he is completely the master of his craft. This is one of Jimmy Stewarts best movies, and also one of the sweetest, most enjoyable romantic comedies you will find. I greatly recommend this movie, especially for those that appreciate the work of Stewart.'"
            ],
            "application/vnd.google.colaboratory.intrinsic+json": {
              "type": "string"
            }
          },
          "metadata": {},
          "execution_count": 10
        }
      ],
      "source": [
        "train_text[0]"
      ]
    },
    {
      "cell_type": "code",
      "execution_count": 11,
      "metadata": {
        "colab": {
          "base_uri": "https://localhost:8080/"
        },
        "id": "Djdd2iwI0nR9",
        "outputId": "fa7aaaec-d62f-46d9-d01b-d2d4394d2b1c"
      },
      "outputs": [
        {
          "output_type": "execute_result",
          "data": {
            "text/plain": [
              "1"
            ]
          },
          "metadata": {},
          "execution_count": 11
        }
      ],
      "source": [
        "y_train[0]"
      ]
    },
    {
      "cell_type": "code",
      "execution_count": 13,
      "metadata": {
        "id": "KdcgoIxC0nR9"
      },
      "outputs": [],
      "source": [
        "#查看負面評價的影評"
      ]
    },
    {
      "cell_type": "code",
      "execution_count": 14,
      "metadata": {
        "colab": {
          "base_uri": "https://localhost:8080/",
          "height": 191
        },
        "id": "54NVOTnq0nR9",
        "outputId": "24f2c0e7-5946-4a15-9677-b6f283d89a82"
      },
      "outputs": [
        {
          "output_type": "execute_result",
          "data": {
            "text/plain": [
              "\"David Lynch's crude and crudely drawn take on South Park presents us with a nightmare of disturbing clichés about suburban middle class families. The father is a hideous monster with three teeth and a disproportionately large circular mouth-hole from which are uttered the most horrendous guttural noises, the son and mother are permanently horrified, incoherent creatures for whom terror is a way of life. A number of equally absurd characters are introduced throughout the series.Lynch is not famous for his comedies (i.e. On the Air, aspects of Wild at Heart), and I am not particularly fond of comedies in general. However, there were a couple of scenes in Dumbland which made me laugh out loud. There are some clever bits of animated cinematography - where Lynch conveys wide ranges of reaction in his characters through a syntactical arrangement of shots as opposed to facial expressions (which never really vary in Dumbland).I believe Lynch was really trying to give his audience a straight-forward, if disturbing, animated comedy here. Interestingly, he chose to follow in the footsteps of the recent wave of ultra-low-brow humor (i.e. most Will Farrell films) while adding elements of vicious social critique and classic cartoon violence and gross-out humor. While the blend doesn't really work very well here, it is nothing if not Lynchian.Worth seeing by Lynch fans.\""
            ],
            "application/vnd.google.colaboratory.intrinsic+json": {
              "type": "string"
            }
          },
          "metadata": {},
          "execution_count": 14
        }
      ],
      "source": [
        "train_text[12500]"
      ]
    },
    {
      "cell_type": "code",
      "execution_count": 15,
      "metadata": {
        "colab": {
          "base_uri": "https://localhost:8080/"
        },
        "id": "3avIquhl0nR-",
        "outputId": "eb9f81c4-63eb-4b37-fac8-02b0c58a6e33"
      },
      "outputs": [
        {
          "output_type": "execute_result",
          "data": {
            "text/plain": [
              "0"
            ]
          },
          "metadata": {},
          "execution_count": 15
        }
      ],
      "source": [
        "y_train[12500]"
      ]
    },
    {
      "cell_type": "markdown",
      "metadata": {
        "collapsed": true,
        "id": "QwlEQetq0nR-"
      },
      "source": [
        "# 讀取訓練資料所有文章(train_text)建立字典\n",
        "* 字典的數量限制為2000：nb_words=2000\n",
        "* 讀取訓練資料所有文章(影評)，依每一個英文單字在影評出現次數排序，取前2000單字進入字典"
      ]
    },
    {
      "cell_type": "code",
      "execution_count": 16,
      "metadata": {
        "id": "mb9lI5XI0nR-"
      },
      "outputs": [],
      "source": [
        "token = Tokenizer(num_words=2000)\n",
        "token.fit_on_texts(train_text)"
      ]
    },
    {
      "cell_type": "code",
      "execution_count": 17,
      "metadata": {
        "colab": {
          "base_uri": "https://localhost:8080/"
        },
        "id": "WhdXu0Fa0nR_",
        "outputId": "400861c6-7c98-4aca-c7a3-47a2b792b2d1"
      },
      "outputs": [
        {
          "output_type": "stream",
          "name": "stdout",
          "text": [
            "25000\n"
          ]
        }
      ],
      "source": [
        "print(token.document_count)"
      ]
    },
    {
      "cell_type": "code",
      "execution_count": 18,
      "metadata": {
        "colab": {
          "base_uri": "https://localhost:8080/"
        },
        "id": "KJD1eT9V0nR_",
        "outputId": "31154dc4-ec64-4f7b-c6e6-6823fe7fffdc"
      },
      "outputs": [
        {
          "output_type": "stream",
          "name": "stdout",
          "text": [
            "[('the', 1), ('and', 2), ('a', 3), ('of', 4), ('to', 5), ('is', 6), ('in', 7), ('it', 8), ('i', 9), ('this', 10), ('that', 11), ('was', 12), ('as', 13), ('for', 14), ('with', 15), ('movie', 16), ('but', 17), ('film', 18), ('on', 19), ('not', 20), ('you', 21), ('are', 22), ('his', 23), ('have', 24), ('be', 25), ('he', 26), ('one', 27), ('all', 28), ('at', 29), ('by', 30), ('an', 31), ('they', 32), ('who', 33), ('so', 34), ('from', 35), ('like', 36), ('her', 37), ('or', 38), ('just', 39), ('about', 40), (\"it's\", 41), ('out', 42), ('has', 43), ('if', 44), ('some', 45), ('there', 46), ('what', 47), ('good', 48), ('more', 49), ('when', 50), ('very', 51), ('up', 52), ('no', 53), ('time', 54), ('she', 55), ('even', 56), ('my', 57), ('would', 58), ('which', 59), ('only', 60), ('story', 61), ('really', 62), ('see', 63), ('their', 64), ('had', 65), ('can', 66), ('were', 67), ('me', 68), ('well', 69), ('than', 70), ('we', 71), ('much', 72), ('been', 73), ('get', 74), ('bad', 75), ('will', 76), ('also', 77), ('do', 78), ('into', 79), ('people', 80), ('other', 81), ('first', 82), ('because', 83), ('great', 84), ('how', 85), ('him', 86), ('most', 87), (\"don't\", 88), ('made', 89), ('its', 90), ('then', 91), ('way', 92), ('make', 93), ('them', 94), ('too', 95), ('could', 96), ('any', 97), ('movies', 98), ('after', 99), ('think', 100)]\n"
          ]
        }
      ],
      "source": [
        "# Convert the dictionary to a list of (word, index) pairs\n",
        "word_index_items = list(token.word_index.items())\n",
        "\n",
        "# Print the first 100 items\n",
        "print(word_index_items[:100])"
      ]
    },
    {
      "cell_type": "markdown",
      "metadata": {
        "collapsed": true,
        "id": "KyfCXIZT0nSA"
      },
      "source": [
        "# 將每一篇文章的文字轉換一連串的數字\n",
        "* **只有在字典中的文字會轉換為數字**"
      ]
    },
    {
      "cell_type": "code",
      "execution_count": 19,
      "metadata": {
        "id": "j-Yy0_lw0nSA"
      },
      "outputs": [],
      "source": [
        "x_train_seq = token.texts_to_sequences(train_text)\n",
        "x_test_seq  = token.texts_to_sequences(test_text)"
      ]
    },
    {
      "cell_type": "code",
      "execution_count": 20,
      "metadata": {
        "colab": {
          "base_uri": "https://localhost:8080/"
        },
        "id": "DUOIdT8s0nSA",
        "outputId": "787a2f5b-e6ad-4689-a782-14c003eafe31"
      },
      "outputs": [
        {
          "output_type": "stream",
          "name": "stdout",
          "text": [
            "This is a movie that gets better each time I see it. There are so many nuanced performances in this. William Tracey, as Pepi, is a delight, bringing sharp comic relief. Joseph Schildkraut as Vadas, is the only \"villian\" in the movie, and his oily charms are well used here. Frank Morgan, is delightful as the owner of the title shop, Mr. Matuschek, and his familiar manner is well used here. I especially liked the performance of Felix Bressart, as Pirovitch. Very believable in every facet of his role.The two leads are equally accomplished, with Margaret Sullivan doing an outstanding job of portraying a slightly desperate, neurotic, yet charming and attractive woman.This movie belongs to Jimmy Stewart though. The movie is presented from his point of view, with the action rotating around him. Mr. Stewart is more then up to the task of carrying the movie, with an amazing performance that uses a wide range of emotions. Just watch Stewart, when he is fired from his job, because of a misunderstanding. He is able to convey the shock, anger, fear and embarrassment that so traumatic an event causes, so perfectly. In my estimation, James Stewart is, without question, the greatest film actor in the history of the medium. There is no one else that has ever been captured on film that is able to so completely convey what he is feeling to an audience. At the time he made this movie, he still had most of his career ahead of him, yet he is completely the master of his craft. This is one of Jimmy Stewarts best movies, and also one of the sweetest, most enjoyable romantic comedies you will find. I greatly recommend this movie, especially for those that appreciate the work of Stewart.\n"
          ]
        }
      ],
      "source": [
        "print(train_text[0])"
      ]
    },
    {
      "cell_type": "code",
      "execution_count": 21,
      "metadata": {
        "colab": {
          "base_uri": "https://localhost:8080/"
        },
        "id": "5-H2X5rs0nSA",
        "outputId": "add0f142-cee5-46b1-a230-4ca468add867"
      },
      "outputs": [
        {
          "output_type": "stream",
          "name": "stdout",
          "text": [
            "[10, 6, 3, 16, 11, 210, 124, 253, 54, 9, 63, 8, 46, 22, 34, 107, 350, 7, 10, 1015, 13, 6, 3, 693, 13, 6, 1, 60, 7, 1, 16, 2, 23, 22, 69, 338, 129, 1262, 6, 1902, 13, 1, 4, 1, 421, 439, 2, 23, 1074, 1372, 6, 69, 338, 129, 9, 257, 419, 1, 235, 4, 13, 51, 860, 7, 171, 4, 23, 213, 1, 103, 828, 22, 1299, 15, 395, 31, 1336, 288, 4, 3, 1070, 1676, 242, 1216, 2, 1563, 251, 10, 16, 5, 1338, 147, 1, 16, 6, 1346, 35, 23, 209, 4, 647, 15, 1, 202, 183, 86, 439, 1338, 6, 49, 91, 52, 5, 1, 4, 1, 16, 15, 31, 476, 235, 11, 1073, 3, 1862, 4, 1432, 39, 102, 1338, 50, 26, 6, 35, 23, 288, 83, 4, 3, 26, 6, 498, 5, 1, 1460, 1090, 2, 11, 34, 31, 1487, 34, 945, 7, 57, 587, 1338, 6, 205, 883, 1, 829, 18, 280, 7, 1, 475, 4, 1, 46, 6, 53, 27, 331, 11, 43, 122, 73, 1989, 19, 18, 11, 6, 498, 5, 34, 336, 47, 26, 6, 543, 5, 31, 307, 29, 1, 54, 26, 89, 10, 16, 26, 127, 65, 87, 4, 23, 607, 1405, 4, 86, 242, 26, 6, 336, 1, 1297, 4, 23, 10, 6, 27, 4, 114, 98, 2, 77, 27, 4, 1, 87, 733, 728, 1286, 21, 76, 165, 9, 382, 10, 16, 257, 14, 144, 11, 1140, 1, 153, 4, 1338]\n"
          ]
        }
      ],
      "source": [
        "print(x_train_seq[0])"
      ]
    },
    {
      "cell_type": "code",
      "source": [
        "# sequences_to_texts() 可以轉換數字為文字\n",
        "token.sequences_to_texts([[10, 6, 3, 16, 11, 210, 124, 253, 54, 9, 63, 8, 46, 22, 34]])"
      ],
      "metadata": {
        "colab": {
          "base_uri": "https://localhost:8080/"
        },
        "id": "YVQoiwmMjyWb",
        "outputId": "0dd7b109-7a18-4d78-8e64-aa82f2f5fb30"
      },
      "execution_count": 22,
      "outputs": [
        {
          "output_type": "execute_result",
          "data": {
            "text/plain": [
              "['this is a movie that gets better each time i see it there are so']"
            ]
          },
          "metadata": {},
          "execution_count": 22
        }
      ]
    },
    {
      "cell_type": "markdown",
      "metadata": {
        "id": "Iko9FuyE0nSA"
      },
      "source": [
        "# 讓轉換後的數字長度相同\n",
        "* 每一篇文章內的文字長度都不同，轉換為數字後，每一篇的文章產生的數字長度也不同\n",
        "* 進行神經網路的訓練時，每一篇文章的數字長度必須相同\n",
        "* 程式碼當中：maxlen=100，使每一篇文章的數字長度都裁成為100\n",
        "* 如果文章轉成數字，長度大於100，pad_sequences處理後，會截掉(truncate)前面的數字\n",
        "* 如果文章轉成數字，長度不足100，pad_sequences處理後，文章前面會加上0"
      ]
    },
    {
      "cell_type": "code",
      "execution_count": 23,
      "metadata": {
        "id": "o_pRJhNh0nSB"
      },
      "outputs": [],
      "source": [
        "x_train = sequence.pad_sequences(x_train_seq, maxlen=100)\n",
        "x_test  = sequence.pad_sequences(x_test_seq,  maxlen=100)"
      ]
    },
    {
      "cell_type": "code",
      "source": [
        "# 如果文章轉成數字長度大於100，pad_sequences處理後，會truncate前面的數字"
      ],
      "metadata": {
        "id": "FUtrlGlzfUYw"
      },
      "execution_count": 24,
      "outputs": []
    },
    {
      "cell_type": "code",
      "execution_count": 25,
      "metadata": {
        "colab": {
          "base_uri": "https://localhost:8080/"
        },
        "id": "6ie0Affv0nSB",
        "outputId": "f8fca43f-c31b-46de-aa8b-6b4e00ad0877"
      },
      "outputs": [
        {
          "output_type": "stream",
          "name": "stdout",
          "text": [
            "before pad_sequences length= 250\n",
            "[10, 6, 3, 16, 11, 210, 124, 253, 54, 9, 63, 8, 46, 22, 34, 107, 350, 7, 10, 1015, 13, 6, 3, 693, 13, 6, 1, 60, 7, 1, 16, 2, 23, 22, 69, 338, 129, 1262, 6, 1902, 13, 1, 4, 1, 421, 439, 2, 23, 1074, 1372, 6, 69, 338, 129, 9, 257, 419, 1, 235, 4, 13, 51, 860, 7, 171, 4, 23, 213, 1, 103, 828, 22, 1299, 15, 395, 31, 1336, 288, 4, 3, 1070, 1676, 242, 1216, 2, 1563, 251, 10, 16, 5, 1338, 147, 1, 16, 6, 1346, 35, 23, 209, 4, 647, 15, 1, 202, 183, 86, 439, 1338, 6, 49, 91, 52, 5, 1, 4, 1, 16, 15, 31, 476, 235, 11, 1073, 3, 1862, 4, 1432, 39, 102, 1338, 50, 26, 6, 35, 23, 288, 83, 4, 3, 26, 6, 498, 5, 1, 1460, 1090, 2, 11, 34, 31, 1487, 34, 945, 7, 57, 587, 1338, 6, 205, 883, 1, 829, 18, 280, 7, 1, 475, 4, 1, 46, 6, 53, 27, 331, 11, 43, 122, 73, 1989, 19, 18, 11, 6, 498, 5, 34, 336, 47, 26, 6, 543, 5, 31, 307, 29, 1, 54, 26, 89, 10, 16, 26, 127, 65, 87, 4, 23, 607, 1405, 4, 86, 242, 26, 6, 336, 1, 1297, 4, 23, 10, 6, 27, 4, 114, 98, 2, 77, 27, 4, 1, 87, 733, 728, 1286, 21, 76, 165, 9, 382, 10, 16, 257, 14, 144, 11, 1140, 1, 153, 4, 1338]\n"
          ]
        }
      ],
      "source": [
        "print('before pad_sequences length=',len(x_train_seq[0]))\n",
        "print(x_train_seq[0])"
      ]
    },
    {
      "cell_type": "code",
      "execution_count": 26,
      "metadata": {
        "colab": {
          "base_uri": "https://localhost:8080/"
        },
        "id": "Y579Bybx0nSB",
        "outputId": "2a8a3615-40f9-45c6-e8f8-e833404827a1"
      },
      "outputs": [
        {
          "output_type": "stream",
          "name": "stdout",
          "text": [
            "after pad_sequences length= 100\n",
            "[1487   34  945    7   57  587 1338    6  205  883    1  829   18  280\n",
            "    7    1  475    4    1   46    6   53   27  331   11   43  122   73\n",
            " 1989   19   18   11    6  498    5   34  336   47   26    6  543    5\n",
            "   31  307   29    1   54   26   89   10   16   26  127   65   87    4\n",
            "   23  607 1405    4   86  242   26    6  336    1 1297    4   23   10\n",
            "    6   27    4  114   98    2   77   27    4    1   87  733  728 1286\n",
            "   21   76  165    9  382   10   16  257   14  144   11 1140    1  153\n",
            "    4 1338]\n"
          ]
        }
      ],
      "source": [
        "print('after pad_sequences length=',len(x_train[0]))\n",
        "print(x_train[0])"
      ]
    },
    {
      "cell_type": "code",
      "execution_count": 27,
      "metadata": {
        "id": "F7B13yyi0nSC"
      },
      "outputs": [],
      "source": [
        "#如果文章轉成數字不足100,pad_sequences處理後，前面會加上0"
      ]
    },
    {
      "cell_type": "code",
      "execution_count": 28,
      "metadata": {
        "colab": {
          "base_uri": "https://localhost:8080/"
        },
        "outputId": "9d3c25f3-79f4-4223-b672-02b1914f666d",
        "id": "gfTEf5qne--U"
      },
      "outputs": [
        {
          "output_type": "stream",
          "name": "stdout",
          "text": [
            "before pad_sequences length= 74\n",
            "[27, 4, 1, 114, 360, 348, 98, 35, 6, 10, 6, 1, 460, 495, 4, 157, 554, 44, 21, 260, 7, 588, 88, 102, 10, 16, 8, 28, 125, 1118, 241, 10, 16, 283, 11, 720, 1, 4, 1350, 1832, 3, 178, 4, 1568, 2, 9, 436, 46, 76, 25, 3, 1034, 511, 82, 18, 6, 39, 1, 450, 4, 3, 157, 1604, 227, 98, 15, 3, 167, 142, 1061, 14, 1, 329, 565]\n"
          ]
        }
      ],
      "source": [
        "print('before pad_sequences length=',len(x_train_seq[1]))\n",
        "print(x_train_seq[1])"
      ]
    },
    {
      "cell_type": "code",
      "execution_count": 29,
      "metadata": {
        "colab": {
          "base_uri": "https://localhost:8080/"
        },
        "id": "LZowIMga0nSC",
        "outputId": "ebda8a51-e370-48a9-a962-e9142107e537"
      },
      "outputs": [
        {
          "output_type": "stream",
          "name": "stdout",
          "text": [
            "after pad_sequences length= 100\n",
            "[   0    0    0    0    0    0    0    0    0    0    0    0    0    0\n",
            "    0    0    0    0    0    0    0    0    0    0    0    0   27    4\n",
            "    1  114  360  348   98   35    6   10    6    1  460  495    4  157\n",
            "  554   44   21  260    7  588   88  102   10   16    8   28  125 1118\n",
            "  241   10   16  283   11  720    1    4 1350 1832    3  178    4 1568\n",
            "    2    9  436   46   76   25    3 1034  511   82   18    6   39    1\n",
            "  450    4    3  157 1604  227   98   15    3  167  142 1061   14    1\n",
            "  329  565]\n"
          ]
        }
      ],
      "source": [
        "print('after pad_sequences length=',len(x_train[1]))\n",
        "print(x_train[1])"
      ]
    },
    {
      "cell_type": "markdown",
      "metadata": {
        "id": "lrDbzNwW0nSC"
      },
      "source": [
        "# 資料預處理"
      ]
    },
    {
      "cell_type": "markdown",
      "source": [
        "```\n",
        "token = Tokenizer(num_words=2000)\n",
        "token.fit_on_texts(train_text)\n",
        "```\n",
        "```\n",
        "x_train_seq = token.texts_to_sequences(train_text)\n",
        "x_test_seq  = token.texts_to_sequences(test_text)\n",
        "```\n",
        "```\n",
        "x_train = sequence.pad_sequences(x_train_seq, maxlen=100)\n",
        "x_test  = sequence.pad_sequences(x_test_seq,  maxlen=100)\n",
        "```\n",
        "\n",
        "\n"
      ],
      "metadata": {
        "id": "Xm5Q0BKLlNfr"
      }
    }
  ],
  "metadata": {
    "anaconda-cloud": {},
    "kernelspec": {
      "display_name": "Python 3",
      "language": "python",
      "name": "python3"
    },
    "language_info": {
      "codemirror_mode": {
        "name": "ipython",
        "version": 3
      },
      "file_extension": ".py",
      "mimetype": "text/x-python",
      "name": "python",
      "nbconvert_exporter": "python",
      "pygments_lexer": "ipython3",
      "version": "3.7.6"
    },
    "colab": {
      "provenance": [],
      "include_colab_link": true
    }
  },
  "nbformat": 4,
  "nbformat_minor": 0
}