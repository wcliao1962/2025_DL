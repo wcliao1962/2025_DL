{
  "nbformat": 4,
  "nbformat_minor": 0,
  "metadata": {
    "colab": {
      "provenance": [],
      "include_colab_link": true
    },
    "kernelspec": {
      "name": "python3",
      "display_name": "Python 3"
    },
    "language_info": {
      "name": "python"
    }
  },
  "cells": [
    {
      "cell_type": "markdown",
      "metadata": {
        "id": "view-in-github",
        "colab_type": "text"
      },
      "source": [
        "<a href=\"https://colab.research.google.com/github/wcliao1962/2025_DL/blob/master/hw5_%E5%8F%83%E8%80%83%E7%A8%8B%E5%BC%8F%E7%A2%BC_.ipynb\" target=\"_parent\"><img src=\"https://colab.research.google.com/assets/colab-badge.svg\" alt=\"Open In Colab\"/></a>"
      ]
    },
    {
      "cell_type": "code",
      "source": [
        "%matplotlib inline\n",
        "\n",
        "import numpy as np\n",
        "import pandas as pd\n",
        "import matplotlib.pyplot as plt"
      ],
      "metadata": {
        "id": "uTA9e8L5yMdB"
      },
      "execution_count": null,
      "outputs": []
    },
    {
      "cell_type": "markdown",
      "source": [
        "### 1. 將存好的模型和訓練權重讀回來用 (假設存放在SaveModel資料夾)"
      ],
      "metadata": {
        "id": "rzHpgo26x80M"
      }
    },
    {
      "cell_type": "code",
      "metadata": {
        "id": "UkHz6PbACrg-",
        "colab": {
          "base_uri": "https://localhost:8080/"
        },
        "outputId": "062673e3-dacd-4bbf-8782-80fe0d51bfc6"
      },
      "source": [
        "from google.colab import drive\n",
        "\n",
        "drive.mount('/content/drive')"
      ],
      "execution_count": null,
      "outputs": [
        {
          "output_type": "stream",
          "name": "stdout",
          "text": [
            "Mounted at /content/drive\n"
          ]
        }
      ]
    },
    {
      "cell_type": "code",
      "metadata": {
        "id": "2puuhaa-C0-Q",
        "colab": {
          "base_uri": "https://localhost:8080/"
        },
        "outputId": "7cb80c84-d1fd-40dd-eb44-8e13a1cba06d"
      },
      "source": [
        "%cd '/content/drive/My Drive/Colab Notebooks'"
      ],
      "execution_count": null,
      "outputs": [
        {
          "output_type": "stream",
          "name": "stdout",
          "text": [
            "/content/drive/My Drive/Colab Notebooks\n"
          ]
        }
      ]
    },
    {
      "cell_type": "code",
      "source": [
        "from tensorflow.keras.models import model_from_json"
      ],
      "metadata": {
        "id": "c10ToGdUzbnX"
      },
      "execution_count": null,
      "outputs": []
    },
    {
      "cell_type": "code",
      "source": [
        "model = model_from_json(open('SaveModel/Imdb_LSTM_model.json').read())\n",
        "model.load_weights('SaveModel/Imdb_LSTM_model.weights.h5')"
      ],
      "metadata": {
        "id": "ij70nNBCpV3T"
      },
      "execution_count": null,
      "outputs": []
    },
    {
      "cell_type": "code",
      "source": [
        "model.compile(loss='binary_crossentropy',\n",
        "             optimizer='adam',\n",
        "             metrics=['accuracy'])"
      ],
      "metadata": {
        "id": "tU1p7o8hz3Tx"
      },
      "execution_count": null,
      "outputs": []
    },
    {
      "cell_type": "code",
      "metadata": {
        "id": "vKwxPjN6-veq"
      },
      "source": [
        "model.summary()"
      ],
      "execution_count": null,
      "outputs": []
    },
    {
      "cell_type": "markdown",
      "metadata": {
        "id": "qQ9uuTiji5ya"
      },
      "source": [
        "### 2. 載入自行建立的tokenizer (假設存放在SaveModel資料夾)"
      ]
    },
    {
      "cell_type": "code",
      "source": [
        "import pickle\n",
        "f = open('SaveModel/imdb_tokenizer_2000.pkl', 'rb')\n",
        "tokens = pickle.load(f)\n",
        "f.close()"
      ],
      "metadata": {
        "id": "l3lPjH_QsvUx"
      },
      "execution_count": null,
      "outputs": []
    },
    {
      "cell_type": "code",
      "source": [
        "from tensorflow.keras.preprocessing import sequence"
      ],
      "metadata": {
        "id": "AJIHBzXWtwnd"
      },
      "execution_count": null,
      "outputs": []
    },
    {
      "cell_type": "markdown",
      "source": [
        "### 3. 輸入實際由IMDb取得的影評"
      ],
      "metadata": {
        "id": "xxcGFHL55xOk"
      }
    },
    {
      "cell_type": "code",
      "source": [
        "input_text= '''\n",
        "Sure, I'm a huge film snob who (on the surface) only likes artsy-fartsy foreign films from before the 60's, but that hasn't stopped me from loving Disney's Beauty & The Beast; in fact, it's probably my favorite American animated film and is easily Disney's finest work. It's beautiful, it's breathtaking, it's warm, it's hilarious, it's captivating, and, in Disney fashion, it's magical. When I learned that Disney would be remaking their classic films, B&TB was undeniably the best wrapped package. How could they go wrong?\n",
        "Oh man, they went wrong.\n",
        "First thing's first: this film is so flat. The directing was dull and uninteresting throughout the entire film and it honestly felt like one of the Twilight sequels...and then I looked it up and found out that, yes, director Bill Condon was the man behind Breaking Dawn parts 1 & 2. Every shot looks bored and uninterested, which contrasts heavily with the original animated film that was constantly popping with vibrancy. The script too is boring because it's almost a complete remake of the original, though I guess most people won't mind that.\n",
        "Next: the CGI is horrid. Although I didn't care for The Jungle Book from last year, I could at least admit that the CGI was breathtaking. The same cant be said for this film. Characters like Lumière, Cogsworth, Mrs Potts, and most of the cursed appliances have very strange, lifeless faces that are pretty off putting to be looking at for such a long time. All of the sets too look artificial and fake, especially the town towards the beginning. However, the biggest offender is easily and infuriatingly the character that mattered most: The Beast. The CGI on the Beast's face is so distracting that it completely takes you out of the film. His eyes are completely devoid of soul, and his mouth is a gaping video game black hole of fiction. Klaus Kinski looked much better in the Faerie Tale Theatre episode of Beauty & The Beast, and that was a 1984 TV show episode. But do you know why it looked better? Because it was an actual face with actual eyes, not some video game computerized synthetic monstrosity. When will studios learn that practical effects will always top CGI?\n",
        "Finally: wasted casting. Emma Watson is beautiful, but she's no Belle. She is completely devoid of the warmth and humanity that made the animated Belle so beloved. Instead, she is cold and heartless throughout most of the film. Kevin Kline is 100% wasted and does nothing except look old. Ian McKellan, Ewan McGregor, Emma Thompson, and even Dan Stevens as the Beast are very expendable and could've been played by anyone else. The only good characters are Gaston and LeFou, mostly because they are fun and played by actors who breathe new life into their original shapes. If anything, this film should've been about Gaston and LeFou, but that would never happen because that would mean Disney couldn't cater to blind nostalgic 90's kids.\n",
        "Overall, this film is a complete bore. It could've been better if even the special effects were good, but the CGI in particular is horrendous. I'm all for Disney remaking their nostalgia- catering 90's films, but they need to be interesting. This film, sadly, is not. Even the Christmas sequel is better than this film because it's at least something.\n",
        "'''"
      ],
      "metadata": {
        "id": "d1BajC93_Xg_"
      },
      "execution_count": null,
      "outputs": []
    },
    {
      "cell_type": "markdown",
      "source": [
        "### 4. 轉換影評文字串為數字串，並截長或補短，使數字串長度為100"
      ],
      "metadata": {
        "id": "xgix77cMkBJJ"
      }
    },
    {
      "cell_type": "code",
      "execution_count": null,
      "metadata": {
        "collapsed": true,
        "id": "XZH7_5GUMwjH"
      },
      "outputs": [],
      "source": [
        "input_seq = tokens.texts_to_sequences([input_text])"
      ]
    },
    {
      "cell_type": "code",
      "execution_count": null,
      "metadata": {
        "id": "OZYyrYnzMwjH"
      },
      "outputs": [],
      "source": [
        "len(input_seq[0] )"
      ]
    },
    {
      "cell_type": "code",
      "execution_count": null,
      "metadata": {
        "collapsed": true,
        "id": "GjEupVNAMwjH"
      },
      "outputs": [],
      "source": [
        "pad_input_seq  = sequence.pad_sequences(input_seq , maxlen=100)"
      ]
    },
    {
      "cell_type": "code",
      "execution_count": null,
      "metadata": {
        "id": "Tn2NRCv5MwjH"
      },
      "outputs": [],
      "source": [
        "len(pad_input_seq[0])"
      ]
    },
    {
      "cell_type": "code",
      "source": [
        "pad_input_seq"
      ],
      "metadata": {
        "colab": {
          "base_uri": "https://localhost:8080/"
        },
        "id": "MCkbmEgaF4_A",
        "outputId": "5a17e47f-295c-4c1b-e0f6-94336397e8f6"
      },
      "execution_count": null,
      "outputs": [
        {
          "output_type": "execute_result",
          "data": {
            "text/plain": [
              "array([[   1,   60,   48,  101,   22,    2,  664,   84,   32,   22,  249,\n",
              "           2,  252,   30,  152,   33,  157,  109,   79,   64,  200,   44,\n",
              "         228,   10,   18,   73,   40,    2,   17,   11,   58,  111,  589,\n",
              "          84,   11,   58,  377,  909,  422,    5, 2028, 3081,  359,  443,\n",
              "          10,   18,    6,    3,  596, 2699,    8, 2849,   73,  124,   44,\n",
              "          56,    1,  314,  297,   67,   48,   17,    1, 1681,    7,  839,\n",
              "           6, 3394,  142,   28,   14,  909,   64, 3081,  104,   17,   32,\n",
              "         355,    5,   25,  217,   10,   18, 1033,    6,   20,   56,    1,\n",
              "         976,  750,    6,  124,   70,   10,   18,   84,   41,   29,  218,\n",
              "         138]], dtype=int32)"
            ]
          },
          "metadata": {},
          "execution_count": 16
        }
      ]
    },
    {
      "cell_type": "markdown",
      "source": [
        "* 測試將影評數字串還原為文字串"
      ],
      "metadata": {
        "id": "4p74cVI2HUpn"
      }
    },
    {
      "cell_type": "code",
      "execution_count": null,
      "metadata": {
        "collapsed": true,
        "id": "Mj_y5hawIlVJ"
      },
      "outputs": [],
      "source": [
        "# 測試將影評數字串還原為文字串\n",
        "pad_input_text = tokens.sequences_to_texts(pad_input_seq)"
      ]
    },
    {
      "cell_type": "code",
      "source": [
        "pad_input_text"
      ],
      "metadata": {
        "colab": {
          "base_uri": "https://localhost:8080/"
        },
        "id": "10C6G48OJOiK",
        "outputId": "59e16019-afc1-4b63-d2a3-8844d7d4f56f"
      },
      "execution_count": null,
      "outputs": [
        {
          "output_type": "execute_result",
          "data": {
            "text/plain": [
              "[\"the only good characters are and mostly because they are fun and played by actors who new life into their original if anything this film been about and but that would never happen because that would mean disney couldn't to blind 90's kids overall this film is a complete bore it could've been better if even the special effects were good but the cgi in particular is horrendous i'm all for disney their 90's films but they need to be interesting this film sadly is not even the christmas sequel is better than this film because it's at least something\"]"
            ]
          },
          "metadata": {},
          "execution_count": 18
        }
      ]
    },
    {
      "cell_type": "markdown",
      "source": [
        "### 5. 輸入影評(數字串，長度為100)進行情意預測"
      ],
      "metadata": {
        "id": "GJb2jXIzk4-1"
      }
    },
    {
      "cell_type": "code",
      "execution_count": null,
      "metadata": {
        "id": "HyW-NXxFMwjI",
        "outputId": "e0174b0e-045d-455b-ce87-ed92edbe59fa",
        "colab": {
          "base_uri": "https://localhost:8080/"
        }
      },
      "outputs": [
        {
          "output_type": "stream",
          "name": "stdout",
          "text": [
            "\u001b[1m1/1\u001b[0m \u001b[32m━━━━━━━━━━━━━━━━━━━━\u001b[0m\u001b[37m\u001b[0m \u001b[1m0s\u001b[0m 340ms/step\n"
          ]
        }
      ],
      "source": [
        "predict_result=model.predict(pad_input_seq)"
      ]
    },
    {
      "cell_type": "code",
      "execution_count": null,
      "metadata": {
        "id": "YZflUpQmMwjI"
      },
      "outputs": [],
      "source": [
        "predict_result"
      ]
    },
    {
      "cell_type": "code",
      "execution_count": null,
      "metadata": {
        "id": "PGGRk6mjMwjI"
      },
      "outputs": [],
      "source": [
        "predict_result[0][0]"
      ]
    },
    {
      "cell_type": "code",
      "execution_count": null,
      "metadata": {
        "collapsed": true,
        "id": "McqMD4IEMwi6"
      },
      "outputs": [],
      "source": [
        "SentimentDict={1:'正面的',0:'負面的'}"
      ]
    },
    {
      "cell_type": "code",
      "execution_count": null,
      "metadata": {
        "outputId": "3cadc1b9-f591-4ab2-aa6c-a7456657dd61",
        "colab": {
          "base_uri": "https://localhost:8080/",
          "height": 35
        },
        "id": "8qzP4bJMFm7C"
      },
      "outputs": [
        {
          "output_type": "execute_result",
          "data": {
            "text/plain": [
              "'負面的'"
            ],
            "application/vnd.google.colaboratory.intrinsic+json": {
              "type": "string"
            }
          },
          "metadata": {},
          "execution_count": 18
        }
      ],
      "source": [
        "SentimentDict[round(predict_result[0][0])]"
      ]
    },
    {
      "cell_type": "markdown",
      "source": [
        "### 6. 建立predict_review函數：\n",
        "*   可直接輸入影評文字資料(input_text)進行情意預測"
      ],
      "metadata": {
        "id": "HJ1i57OGl9sO"
      }
    },
    {
      "cell_type": "code",
      "execution_count": null,
      "metadata": {
        "collapsed": true,
        "id": "9f4SgkWtMwjJ"
      },
      "outputs": [],
      "source": [
        "def predict_review(input_text):\n",
        "  # 請自行建立此函數\n",
        ""
      ]
    },
    {
      "cell_type": "markdown",
      "source": [
        "### 7. 影評情意預測\n",
        "\n",
        "* 請由IMDb實際取得任意兩則影評，需註明影評URL\n",
        "* 利用predict_review函數進行情意分析"
      ],
      "metadata": {
        "id": "OV65JRaFnccq"
      }
    },
    {
      "cell_type": "code",
      "execution_count": null,
      "metadata": {
        "id": "ZPFSFPuFMwjJ"
      },
      "outputs": [],
      "source": [
        "predict_review('''\n",
        "It's hard to believe that the same talented director who made the influential cult action classic The Road Warrior had anything to do with this disaster.\n",
        "Road Warrior was raw, gritty, violent and uncompromising, and this movie is the exact opposite. It's like Road Warrior for kids who need constant action in their movies.\n",
        "This is the movie. The good guys get into a fight with the bad guys, outrun them, they break down in their vehicle and fix it. Rinse and repeat. The second half of the movie is the first half again just done faster.\n",
        "The Road Warrior may have been a simple premise but it made you feel something, even with it's opening narration before any action was even shown. And the supporting characters were given just enough time for each of them to be likable or relatable.\n",
        "In this movie there is absolutely nothing and no one to care about. We're supposed to care about the characters because... well we should. George Miller just wants us to, and in one of the most cringe worthy moments Charlize Theron's character breaks down while dramatic music plays to try desperately to make us care.\n",
        "Tom Hardy is pathetic as Max. One of the dullest leading men I've seen in a long time. There's not one single moment throughout the entire movie where he comes anywhere near reaching the same level of charisma Mel Gibson did in the role. Gibson made more of an impression just eating a tin of dog food. I'm still confused as to what accent Hardy was even trying to do.\n",
        "I was amazed that Max has now become a cartoon character as well. Gibson's Max was a semi-realistic tough guy who hurt, bled, and nearly died several times. Now he survives car crashes and tornadoes with ease?\n",
        "In the previous movies, fuel and guns and bullets were rare. Not anymore. It doesn't even seem Post-Apocalyptic. There's no sense of desperation anymore and everything is too glossy looking. And the main villain's super model looking wives with their perfect skin are about as convincing as apocalyptic survivors as Hardy's Australian accent is. They're so boring and one-dimensional, George Miller could have combined them all into one character and you wouldn't miss anyone.\n",
        "Some of the green screen is very obvious and fake looking, and the CGI sandstorm is laughably bad. It wouldn't look out of place in a Pixar movie.\n",
        "There's no tension, no real struggle, or any real dirt and grit that Road Warrior had. Everything George Miller got right with that masterpiece he gets completely wrong here.\n",
        "''')"
      ]
    },
    {
      "cell_type": "code",
      "execution_count": null,
      "metadata": {
        "id": "B52sjFJxMwjJ"
      },
      "outputs": [],
      "source": [
        "predict_review('''\n",
        "''')"
      ]
    },
    {
      "cell_type": "code",
      "execution_count": null,
      "metadata": {
        "id": "56I2fxPPMwjK"
      },
      "outputs": [],
      "source": [
        "predict_review('''\n",
        "''')"
      ]
    },
    {
      "cell_type": "markdown",
      "source": [
        "### 8. 用 Gradio 打造情意分析 Web App"
      ],
      "metadata": {
        "id": "QnBLFXZ8r_mb"
      }
    }
  ]
}