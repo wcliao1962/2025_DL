{
  "cells": [
    {
      "cell_type": "markdown",
      "metadata": {
        "id": "view-in-github",
        "colab_type": "text"
      },
      "source": [
        "<a href=\"https://colab.research.google.com/github/wcliao1962/2025_DL/blob/master/%E7%A5%9E%E7%B6%93%E7%B6%B2%E8%B7%AF%E8%A8%88%E7%AE%97(%E4%BA%8C).ipynb\" target=\"_parent\"><img src=\"https://colab.research.google.com/assets/colab-badge.svg\" alt=\"Open In Colab\"/></a>"
      ]
    },
    {
      "cell_type": "markdown",
      "metadata": {
        "id": "tjyySmqdWXqD"
      },
      "source": [
        "# 神經網路計算(二)\n",
        "## 批次學習\n",
        "* 輸入層一次輸入多筆訓練資料，多筆訓練資料整批(同時)由神經網路進行計算\n",
        "\n",
        "參考: Deep Learning, 齋藤康毅，OREILLY"
      ]
    },
    {
      "cell_type": "code",
      "execution_count": 1,
      "metadata": {
        "id": "dhlPgWK8WXqI"
      },
      "outputs": [],
      "source": [
        "import numpy as np"
      ]
    },
    {
      "cell_type": "markdown",
      "metadata": {
        "id": "ju6GygtLWXqK"
      },
      "source": [
        "## Activation functions\n",
        "### Sigmoid函數"
      ]
    },
    {
      "cell_type": "code",
      "execution_count": 2,
      "metadata": {
        "id": "eekolWwIWXqL"
      },
      "outputs": [],
      "source": [
        "def sigmoid(x):\n",
        "    return 1/(1+np.exp(-x))"
      ]
    },
    {
      "cell_type": "code",
      "execution_count": 3,
      "metadata": {
        "id": "wfR3i6UcWXqL"
      },
      "outputs": [],
      "source": [
        "X=np.array([[1.0, 0.5], [1.0, 1.5], [0.7, 0.9]])"
      ]
    },
    {
      "cell_type": "code",
      "execution_count": 4,
      "metadata": {
        "colab": {
          "base_uri": "https://localhost:8080/"
        },
        "id": "Gr5zPLYPWXqL",
        "outputId": "01c55779-1db3-40d4-c545-fea48b25a76e"
      },
      "outputs": [
        {
          "output_type": "execute_result",
          "data": {
            "text/plain": [
              "array([[0.73105858, 0.62245933],\n",
              "       [0.73105858, 0.81757448],\n",
              "       [0.66818777, 0.7109495 ]])"
            ]
          },
          "metadata": {},
          "execution_count": 4
        }
      ],
      "source": [
        "sigmoid(X)"
      ]
    },
    {
      "cell_type": "markdown",
      "metadata": {
        "id": "K-MMew9NWXqM"
      },
      "source": [
        "### ReLU函數"
      ]
    },
    {
      "cell_type": "code",
      "execution_count": 5,
      "metadata": {
        "id": "cMDmUopMWXqN"
      },
      "outputs": [],
      "source": [
        "def relu(x):\n",
        "    return np.maximum(0, x)"
      ]
    },
    {
      "cell_type": "code",
      "execution_count": 6,
      "metadata": {
        "id": "1iTiYiQMWXqN"
      },
      "outputs": [],
      "source": [
        "X=np.array([[1.0, 0.5], [-1.0, 1.5], [0.7, -0.9]])"
      ]
    },
    {
      "cell_type": "code",
      "execution_count": 7,
      "metadata": {
        "colab": {
          "base_uri": "https://localhost:8080/"
        },
        "id": "UnbIiF0DWXqN",
        "outputId": "f28ae822-04fe-4efd-94e4-e4de84b7a1aa"
      },
      "outputs": [
        {
          "output_type": "execute_result",
          "data": {
            "text/plain": [
              "array([[1. , 0.5],\n",
              "       [0. , 1.5],\n",
              "       [0.7, 0. ]])"
            ]
          },
          "metadata": {},
          "execution_count": 7
        }
      ],
      "source": [
        "relu(X)"
      ]
    },
    {
      "cell_type": "markdown",
      "metadata": {
        "id": "sCg78_zJWXqO"
      },
      "source": [
        "### Softmax函數"
      ]
    },
    {
      "cell_type": "code",
      "execution_count": 8,
      "metadata": {
        "id": "U9mDI0rkWXqO"
      },
      "outputs": [],
      "source": [
        "def softmax_0(x):\n",
        "    c=np.max(x)\n",
        "    x = x - c\n",
        "    return np.exp(x) / np.sum(np.exp(x))"
      ]
    },
    {
      "cell_type": "code",
      "execution_count": 9,
      "metadata": {
        "id": "V2c6wsJvWXqO"
      },
      "outputs": [],
      "source": [
        "def softmax(x):\n",
        "    x = x - np.max(x, axis=-1, keepdims=True)\n",
        "    return np.exp(x) / np.sum(np.exp(x), axis=-1, keepdims=True)"
      ]
    },
    {
      "cell_type": "code",
      "execution_count": 10,
      "metadata": {
        "id": "yfMtNBGBWXqO"
      },
      "outputs": [],
      "source": [
        "x=np.array([[1.0, 0.5], [1.0, 1.5], [0.7, 0.9]])"
      ]
    },
    {
      "cell_type": "code",
      "execution_count": 11,
      "metadata": {
        "colab": {
          "base_uri": "https://localhost:8080/"
        },
        "id": "CCxunUa7WXqO",
        "outputId": "9d4f2fa8-06ba-47a7-bf34-773dc7c2e6cb"
      },
      "outputs": [
        {
          "output_type": "execute_result",
          "data": {
            "text/plain": [
              "1.5"
            ]
          },
          "metadata": {},
          "execution_count": 11
        }
      ],
      "source": [
        "np.max(x)"
      ]
    },
    {
      "cell_type": "code",
      "execution_count": 12,
      "metadata": {
        "colab": {
          "base_uri": "https://localhost:8080/"
        },
        "id": "PpoImwGMWXqP",
        "outputId": "67feca00-55bd-4b45-fae4-3f30befab1cb"
      },
      "outputs": [
        {
          "output_type": "execute_result",
          "data": {
            "text/plain": [
              "array([[1. ],\n",
              "       [1.5],\n",
              "       [0.9]])"
            ]
          },
          "metadata": {},
          "execution_count": 12
        }
      ],
      "source": [
        "np.max(x, axis=-1, keepdims=True)"
      ]
    },
    {
      "cell_type": "code",
      "execution_count": 13,
      "metadata": {
        "colab": {
          "base_uri": "https://localhost:8080/"
        },
        "id": "6VFWR6bjWXqP",
        "outputId": "66b965a5-66b2-4600-cd37-1bfdddb23e2a"
      },
      "outputs": [
        {
          "output_type": "execute_result",
          "data": {
            "text/plain": [
              "array([[ 0. , -0.5],\n",
              "       [-0.5,  0. ],\n",
              "       [-0.2,  0. ]])"
            ]
          },
          "metadata": {},
          "execution_count": 13
        }
      ],
      "source": [
        "x - np.max(x, axis=-1, keepdims=True)"
      ]
    },
    {
      "cell_type": "code",
      "execution_count": 14,
      "metadata": {
        "colab": {
          "base_uri": "https://localhost:8080/"
        },
        "id": "zdiIGXROWXqP",
        "outputId": "e488e2ca-e2cb-4cf3-a858-50c805faee49"
      },
      "outputs": [
        {
          "output_type": "execute_result",
          "data": {
            "text/plain": [
              "array([[1.        , 0.60653066],\n",
              "       [0.60653066, 1.        ],\n",
              "       [0.81873075, 1.        ]])"
            ]
          },
          "metadata": {},
          "execution_count": 14
        }
      ],
      "source": [
        "x = x - np.max(x, axis=-1, keepdims=True)\n",
        "np.exp(x)"
      ]
    },
    {
      "cell_type": "code",
      "execution_count": 15,
      "metadata": {
        "colab": {
          "base_uri": "https://localhost:8080/"
        },
        "id": "Pvz8zco8WXqP",
        "outputId": "3c020971-8085-4e69-97fc-e86a8cb99a79"
      },
      "outputs": [
        {
          "output_type": "execute_result",
          "data": {
            "text/plain": [
              "array([[1.60653066],\n",
              "       [1.60653066],\n",
              "       [1.81873075]])"
            ]
          },
          "metadata": {},
          "execution_count": 15
        }
      ],
      "source": [
        "np.sum(np.exp(x), axis=-1, keepdims=True)"
      ]
    },
    {
      "cell_type": "code",
      "execution_count": 16,
      "metadata": {
        "colab": {
          "base_uri": "https://localhost:8080/"
        },
        "id": "R08QAw0CWXqP",
        "outputId": "f16de6f0-11dd-4249-c4af-f94c8a4ea01f"
      },
      "outputs": [
        {
          "output_type": "execute_result",
          "data": {
            "text/plain": [
              "array([[0.62245933, 0.37754067],\n",
              "       [0.37754067, 0.62245933],\n",
              "       [0.450166  , 0.549834  ]])"
            ]
          },
          "metadata": {},
          "execution_count": 16
        }
      ],
      "source": [
        "softmax(x)"
      ]
    },
    {
      "cell_type": "code",
      "execution_count": 17,
      "metadata": {
        "colab": {
          "base_uri": "https://localhost:8080/"
        },
        "id": "wJY8cxHIWXqQ",
        "outputId": "655f8fed-ece9-4376-a45a-5c1f0b0836cc"
      },
      "outputs": [
        {
          "output_type": "execute_result",
          "data": {
            "text/plain": [
              "array([[0.19873635, 0.12053969],\n",
              "       [0.12053969, 0.19873635],\n",
              "       [0.16271156, 0.19873635]])"
            ]
          },
          "metadata": {},
          "execution_count": 17
        }
      ],
      "source": [
        "softmax_0(x) # 這是錯誤的!"
      ]
    },
    {
      "cell_type": "markdown",
      "metadata": {
        "id": "TkqB1JClWXqQ"
      },
      "source": [
        "## Loss fnctions\n",
        "### Cross entropy error (交叉熵誤差)"
      ]
    },
    {
      "cell_type": "code",
      "execution_count": 18,
      "metadata": {
        "id": "wvbw389MWXqQ"
      },
      "outputs": [],
      "source": [
        "def cross_entropy_error_0(y, t):\n",
        "    return -np.sum(t * np.log(y + 1e-7))"
      ]
    },
    {
      "cell_type": "code",
      "execution_count": 19,
      "metadata": {
        "id": "5qIrELj7WXqQ"
      },
      "outputs": [],
      "source": [
        "def cross_entropy_error(y, t):\n",
        "    if y.ndim == 1:\n",
        "        t = t.reshape(1, t.size)\n",
        "        y = y.reshape(1, y.size)\n",
        "\n",
        "    batch_size = y.shape[0]\n",
        "    return -np.sum(t * np.log(y + 1e-7)) / batch_size"
      ]
    },
    {
      "cell_type": "code",
      "execution_count": 20,
      "metadata": {
        "id": "y_FlrMyWWXqQ"
      },
      "outputs": [],
      "source": [
        "y=np.array([[0.9, 0.2], [0.6, 0.4], [0.7, 0.3]])\n",
        "t=np.array([[1, 0], [0, 1], [1, 0]])"
      ]
    },
    {
      "cell_type": "code",
      "execution_count": 21,
      "metadata": {
        "colab": {
          "base_uri": "https://localhost:8080/"
        },
        "id": "SJ2vdr9gWXqQ",
        "outputId": "4a99008d-9f82-445f-f8fb-8d849ade2e35"
      },
      "outputs": [
        {
          "output_type": "execute_result",
          "data": {
            "text/plain": [
              "array([[-0.1053604 , -1.60943741],\n",
              "       [-0.51082546, -0.91629048],\n",
              "       [-0.3566748 , -1.20397247]])"
            ]
          },
          "metadata": {},
          "execution_count": 21
        }
      ],
      "source": [
        "np.log(y + 1e-7)"
      ]
    },
    {
      "cell_type": "code",
      "execution_count": 22,
      "metadata": {
        "colab": {
          "base_uri": "https://localhost:8080/"
        },
        "id": "HLpuSypaWXqQ",
        "outputId": "cfde0444-3e9c-40c1-bee7-3e1f57a5f8ab"
      },
      "outputs": [
        {
          "output_type": "execute_result",
          "data": {
            "text/plain": [
              "array([[-0.1053604 , -0.        ],\n",
              "       [-0.        , -0.91629048],\n",
              "       [-0.3566748 , -0.        ]])"
            ]
          },
          "metadata": {},
          "execution_count": 22
        }
      ],
      "source": [
        "t * np.log(y + 1e-7)"
      ]
    },
    {
      "cell_type": "code",
      "execution_count": 23,
      "metadata": {
        "colab": {
          "base_uri": "https://localhost:8080/"
        },
        "id": "cPGXhFtIWXqR",
        "outputId": "06bbf4ce-9bb5-4885-ac99-6cc09bf12b18"
      },
      "outputs": [
        {
          "output_type": "execute_result",
          "data": {
            "text/plain": [
              "-1.3783256875025076"
            ]
          },
          "metadata": {},
          "execution_count": 23
        }
      ],
      "source": [
        "np.sum(t * np.log(y + 1e-7))"
      ]
    },
    {
      "cell_type": "code",
      "execution_count": 24,
      "metadata": {
        "colab": {
          "base_uri": "https://localhost:8080/"
        },
        "id": "h8l21HlgWXqR",
        "outputId": "98afecc8-682b-4937-803c-246ebab154e1"
      },
      "outputs": [
        {
          "output_type": "execute_result",
          "data": {
            "text/plain": [
              "0.4594418958341692"
            ]
          },
          "metadata": {},
          "execution_count": 24
        }
      ],
      "source": [
        "cross_entropy_error(y, t)"
      ]
    },
    {
      "cell_type": "code",
      "execution_count": 25,
      "metadata": {
        "colab": {
          "base_uri": "https://localhost:8080/"
        },
        "id": "U_oHx07WWXqR",
        "outputId": "2f07f5fc-392e-4994-91b3-d7cdfb20e15c"
      },
      "outputs": [
        {
          "output_type": "execute_result",
          "data": {
            "text/plain": [
              "1.3783256875025076"
            ]
          },
          "metadata": {},
          "execution_count": 25
        }
      ],
      "source": [
        "cross_entropy_error_0(y, t)"
      ]
    },
    {
      "cell_type": "markdown",
      "metadata": {
        "id": "QRtITwCZWXqR"
      },
      "source": [
        "## 多層神經網路小批次學習\n",
        "* 輸入層一次輸入多筆訓練資料，多筆訓練資料整批(同時)由神經網路進行計算"
      ]
    },
    {
      "cell_type": "code",
      "source": [
        "batch_size=3"
      ],
      "metadata": {
        "id": "IBDw5FTPz6Ee"
      },
      "execution_count": 26,
      "outputs": []
    },
    {
      "cell_type": "markdown",
      "metadata": {
        "id": "HJhTOa4GWXqR"
      },
      "source": [
        "#### 輸入層"
      ]
    },
    {
      "cell_type": "code",
      "execution_count": 27,
      "metadata": {
        "id": "Dh6A2TO7WXqR"
      },
      "outputs": [],
      "source": [
        "X=np.array([[1.0, 0.5], [1.0, 1.5], [0.7, 0.9]])\n",
        "t=np.array([[1, 0], [0, 1], [1, 0]])"
      ]
    },
    {
      "cell_type": "code",
      "execution_count": 28,
      "metadata": {
        "colab": {
          "base_uri": "https://localhost:8080/"
        },
        "id": "chdx2UfyWXqR",
        "outputId": "2da7f576-daec-42e3-f48e-6f8e61b13e5a"
      },
      "outputs": [
        {
          "output_type": "execute_result",
          "data": {
            "text/plain": [
              "(3, 2)"
            ]
          },
          "metadata": {},
          "execution_count": 28
        }
      ],
      "source": [
        "X.shape"
      ]
    },
    {
      "cell_type": "code",
      "execution_count": 29,
      "metadata": {
        "colab": {
          "base_uri": "https://localhost:8080/"
        },
        "id": "j1SFN63zWXqS",
        "outputId": "0393b9ce-4af3-412c-d922-c4498f44a83c"
      },
      "outputs": [
        {
          "output_type": "execute_result",
          "data": {
            "text/plain": [
              "array([[1. , 0.5],\n",
              "       [1. , 1.5],\n",
              "       [0.7, 0.9]])"
            ]
          },
          "metadata": {},
          "execution_count": 29
        }
      ],
      "source": [
        "X"
      ]
    },
    {
      "cell_type": "markdown",
      "metadata": {
        "id": "TmjfX7E1WXqS"
      },
      "source": [
        "#### 第一層"
      ]
    },
    {
      "cell_type": "code",
      "execution_count": 30,
      "metadata": {
        "id": "dyfMaywBWXqS"
      },
      "outputs": [],
      "source": [
        "W1=np.array([[0.1, 0.3, 0.5], [0.2, 0.4, 0.6]])\n",
        "b1=np.array([0.1, 0.2, 0.3])"
      ]
    },
    {
      "cell_type": "code",
      "execution_count": 31,
      "metadata": {
        "colab": {
          "base_uri": "https://localhost:8080/"
        },
        "id": "kT0kDKJDWXqS",
        "outputId": "718284a3-2db5-420b-dfd4-cf9dcbadc1cf"
      },
      "outputs": [
        {
          "output_type": "stream",
          "name": "stdout",
          "text": [
            "(3, 2)\n",
            "(2, 3)\n",
            "(3,)\n"
          ]
        }
      ],
      "source": [
        "print(X.shape)\n",
        "print(W1.shape)\n",
        "print(b1.shape)"
      ]
    },
    {
      "cell_type": "code",
      "execution_count": 32,
      "metadata": {
        "scrolled": true,
        "colab": {
          "base_uri": "https://localhost:8080/"
        },
        "id": "5bgBQUJlWXqS",
        "outputId": "e41d39b1-614c-45a9-d9fb-553a1cd6abe6"
      },
      "outputs": [
        {
          "output_type": "stream",
          "name": "stdout",
          "text": [
            "[[0.3  0.7  1.1 ]\n",
            " [0.5  1.1  1.7 ]\n",
            " [0.35 0.77 1.19]]\n"
          ]
        }
      ],
      "source": [
        "Z1=np.dot(X, W1)+b1\n",
        "print(Z1)"
      ]
    },
    {
      "cell_type": "code",
      "execution_count": 33,
      "metadata": {
        "colab": {
          "base_uri": "https://localhost:8080/"
        },
        "id": "U3VMenARWXqc",
        "outputId": "2e3d45e7-d0da-462b-f94f-f840d4941498"
      },
      "outputs": [
        {
          "output_type": "stream",
          "name": "stdout",
          "text": [
            "[[0.57444252 0.66818777 0.75026011]\n",
            " [0.62245933 0.75026011 0.84553473]\n",
            " [0.58661758 0.68352089 0.76674106]]\n"
          ]
        }
      ],
      "source": [
        "H1=sigmoid(Z1)\n",
        "print(H1)"
      ]
    },
    {
      "cell_type": "markdown",
      "metadata": {
        "id": "cg1D3ykFWXqd"
      },
      "source": [
        "#### 第二層"
      ]
    },
    {
      "cell_type": "code",
      "execution_count": 34,
      "metadata": {
        "id": "VG1hEx1NWXqd"
      },
      "outputs": [],
      "source": [
        "W2=np.array([[0.1, 0.4], [0.2, 0.5], [0.3, 0.6]])\n",
        "b2=np.array([0.1, 0.2])"
      ]
    },
    {
      "cell_type": "code",
      "execution_count": 35,
      "metadata": {
        "colab": {
          "base_uri": "https://localhost:8080/"
        },
        "id": "E2yktv0xWXqd",
        "outputId": "ccd889b6-97a3-4feb-e726-ad309ac350c1"
      },
      "outputs": [
        {
          "output_type": "stream",
          "name": "stdout",
          "text": [
            "(3, 3)\n",
            "(3, 2)\n",
            "(2,)\n"
          ]
        }
      ],
      "source": [
        "print(H1.shape)\n",
        "print(W2.shape)\n",
        "print(b2.shape)"
      ]
    },
    {
      "cell_type": "code",
      "execution_count": 36,
      "metadata": {
        "scrolled": true,
        "colab": {
          "base_uri": "https://localhost:8080/"
        },
        "id": "Qv8yQyPCWXqd",
        "outputId": "a9f9c836-e680-4d01-bc90-789790e5c2ff"
      },
      "outputs": [
        {
          "output_type": "stream",
          "name": "stdout",
          "text": [
            "[[0.51615984 1.21402696]\n",
            " [0.56595837 1.33143463]\n",
            " [0.52538826 1.23645212]]\n"
          ]
        }
      ],
      "source": [
        "Z2=np.dot(H1, W2)+b2\n",
        "print(Z2)"
      ]
    },
    {
      "cell_type": "code",
      "execution_count": 37,
      "metadata": {
        "colab": {
          "base_uri": "https://localhost:8080/"
        },
        "id": "0zMoNnqkWXqd",
        "outputId": "bbbc3927-fe66-4a70-c095-8b60c2d43dea"
      },
      "outputs": [
        {
          "output_type": "stream",
          "name": "stdout",
          "text": [
            "[[0.51615984 1.21402696]\n",
            " [0.56595837 1.33143463]\n",
            " [0.52538826 1.23645212]]\n"
          ]
        }
      ],
      "source": [
        "H2=relu(Z2)\n",
        "print(H2)"
      ]
    },
    {
      "cell_type": "markdown",
      "metadata": {
        "id": "SNBcUnPfWXqd"
      },
      "source": [
        "#### 第三層(輸出層)"
      ]
    },
    {
      "cell_type": "code",
      "execution_count": 38,
      "metadata": {
        "id": "GaG23qmiWXqd"
      },
      "outputs": [],
      "source": [
        "W3=np.array([[0.1, 0.3], [0.2, 0.4]])\n",
        "b3=np.array([0.1, 0.2])"
      ]
    },
    {
      "cell_type": "code",
      "execution_count": 39,
      "metadata": {
        "colab": {
          "base_uri": "https://localhost:8080/"
        },
        "id": "V5UhPQeKWXqe",
        "outputId": "2e2c4f19-7960-4824-8d60-1358aa904f29"
      },
      "outputs": [
        {
          "output_type": "stream",
          "name": "stdout",
          "text": [
            "(3, 2)\n",
            "(2, 2)\n",
            "(2,)\n"
          ]
        }
      ],
      "source": [
        "print(H2.shape)\n",
        "print(W3.shape)\n",
        "print(b3.shape)"
      ]
    },
    {
      "cell_type": "code",
      "execution_count": 41,
      "metadata": {
        "scrolled": true,
        "colab": {
          "base_uri": "https://localhost:8080/"
        },
        "id": "sa7NL8UsWXqe",
        "outputId": "d26e056c-f256-43a0-cab7-f097a1364e15"
      },
      "outputs": [
        {
          "output_type": "stream",
          "name": "stdout",
          "text": [
            "[[0.39442138 0.84045873]\n",
            " [0.42288276 0.90236136]\n",
            " [0.39982925 0.85219732]]\n"
          ]
        }
      ],
      "source": [
        "Z3=np.dot(H2, W3)+b3\n",
        "print(Z3)"
      ]
    },
    {
      "cell_type": "code",
      "execution_count": 42,
      "metadata": {
        "colab": {
          "base_uri": "https://localhost:8080/"
        },
        "id": "NFbeh_VYWXqe",
        "outputId": "f0e04bdf-e697-448a-dcde-9965cc7a73e6"
      },
      "outputs": [
        {
          "output_type": "stream",
          "name": "stdout",
          "text": [
            "[[0.39030333 0.60969667]\n",
            " [0.38237525 0.61762475]\n",
            " [0.38879788 0.61120212]]\n"
          ]
        }
      ],
      "source": [
        "y_hat=softmax(Z3)\n",
        "print(y_hat)"
      ]
    },
    {
      "cell_type": "markdown",
      "metadata": {
        "id": "aO650w8qWXqe"
      },
      "source": [
        "### Cross entropy error (交叉熵誤差)"
      ]
    },
    {
      "cell_type": "code",
      "execution_count": 43,
      "metadata": {
        "id": "tdeXFJR1WXqe"
      },
      "outputs": [],
      "source": [
        "y=[[1, 0], [0, 1], [1, 0]]"
      ]
    },
    {
      "cell_type": "code",
      "execution_count": 44,
      "metadata": {
        "colab": {
          "base_uri": "https://localhost:8080/"
        },
        "id": "q1B8gC9LWXqe",
        "outputId": "c686e0b2-1774-428e-f58d-62af08121b10"
      },
      "outputs": [
        {
          "output_type": "execute_result",
          "data": {
            "text/plain": [
              "0.7891334193966603"
            ]
          },
          "metadata": {},
          "execution_count": 44
        }
      ],
      "source": [
        "cross_entropy_error(y_hat, y)"
      ]
    }
  ],
  "metadata": {
    "kernelspec": {
      "display_name": "Python 3",
      "language": "python",
      "name": "python3"
    },
    "language_info": {
      "codemirror_mode": {
        "name": "ipython",
        "version": 3
      },
      "file_extension": ".py",
      "mimetype": "text/x-python",
      "name": "python",
      "nbconvert_exporter": "python",
      "pygments_lexer": "ipython3",
      "version": "3.7.6"
    },
    "colab": {
      "provenance": [],
      "include_colab_link": true
    }
  },
  "nbformat": 4,
  "nbformat_minor": 0
}