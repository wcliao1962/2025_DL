{
  "nbformat": 4,
  "nbformat_minor": 0,
  "metadata": {
    "colab": {
      "provenance": [],
      "mount_file_id": "1yRUPdv8g58x4h6ffn1XRpjC9Whco_B8G",
      "authorship_tag": "ABX9TyP3rSG5CEDdRr4bu+10fSzW",
      "include_colab_link": true
    },
    "kernelspec": {
      "name": "python3",
      "display_name": "Python 3"
    },
    "language_info": {
      "name": "python"
    }
  },
  "cells": [
    {
      "cell_type": "markdown",
      "metadata": {
        "id": "view-in-github",
        "colab_type": "text"
      },
      "source": [
        "<a href=\"https://colab.research.google.com/github/wcliao1962/2025_DL/blob/master/%E7%A5%9E%E7%B6%93%E5%85%83%E8%A8%88%E7%AE%97%E5%8E%9F%E7%90%86.ipynb\" target=\"_parent\"><img src=\"https://colab.research.google.com/assets/colab-badge.svg\" alt=\"Open In Colab\"/></a>"
      ]
    },
    {
      "cell_type": "markdown",
      "source": [
        "電腦神經元是人工神經網絡的基本單元，其計算過程模仿生物神經元的工作方式。以下是電腦神經元如何進行計算的詳細解說：\n",
        "\n",
        "### 1. 輸入\n",
        "每個神經元接收來自其他神經元或輸入層的多個輸入信號，這些信號通常表示為向量 $ x = [x_1, x_2, ..., x_n] $。\n",
        "\n",
        "### 2. 加權\n",
        "每個輸入信號 $( x_i $) 都有一個對應的權重 $( w_i $)，表示該輸入對神經元的重要性。加權後的輸入為 $( w_i \\times x_i $)。\n",
        "\n",
        "### 3. 加總\n",
        "神經元將所有加權輸入相加，並加上一個偏置項 $( b $)，形成加權總和 $( z $)：\n",
        "\n",
        "$$ z = \\sum_{i=1}^{n} w_i \\times x_i + b $$\n",
        "\n",
        "### 4. 激活函數\n",
        "加權總和 $( z $) 通過激活函數 $( f $) 進行非線性轉換，得到神經元的輸出 $( a $)：\n",
        "$$ a = f(z) $$\n",
        "常見的激活函數包括：\n",
        "- **Sigmoid**: $ f(z) = \\frac{1}{1 + e^{-z}} $\n",
        "- **ReLU**: $ f(z) = \\max(0, z) $\n",
        "- **Tanh**: $ f(z) = \\tanh(z) $\n",
        "\n",
        "### 5. 輸出\n",
        "激活函數的輸出 $( a $) 作為該神經元的輸出，傳遞給下一層神經元或作為最終輸出。\n",
        "\n",
        "### 總結\n",
        "電腦神經元的計算過程包括輸入、加權、加總、激活函數處理和輸出。這些步驟使神經元能夠處理和傳遞信息，進而實現複雜的計算任務。\n",
        "\n",
        "### 公式總結\n",
        "$$ a = f\\left(\\sum_{i=1}^{n} w_i \\times x_i + b\\right) $$\n",
        "\n",
        "這個過程是人工神經網絡進行信息處理和學習的基礎。"
      ],
      "metadata": {
        "id": "wQwpuOwTuR5y"
      }
    }
  ]
}